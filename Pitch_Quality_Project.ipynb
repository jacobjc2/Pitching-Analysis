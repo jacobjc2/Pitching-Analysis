{
 "cells": [
  {
   "cell_type": "markdown",
   "metadata": {},
   "source": [
    "# Analysis of Pitch Quality using MLB PITCHf/x Data\n",
    "__By Jacob Christensen__\n",
    "\n",
    "## Introduction\n",
    "\n",
    "Pitching a baseball is considered by many to be an art form. There are countless different ways to structure a stance, delivery, and release and all of that takes place before the ball even leaves the pitcher's hand. Once the ball is in the air, things like speed, spin rate, and trajectory will affect the path of the ball as it travels towards home plate. Each of these different factors play their own part in determining the \"quality\" of the pitch. In this analysis, the expected number of bases gained by the batter will be used as the metric for pitch quality.\n",
    "\n",
    "Hundreds of thousands of pitches are thrown every year by professional pitchers in the MLB. In order to accurately track each of these pitches and provide feedback to umpires making calls on each of them, the MLB employs a system called \"PITCHf/x\". This system was created by a company called Sportvision that worked in tandem with the MLB to get it installed in every professional baseball stadium in the country. \"PITCHf/x\" typically utilizes three cameras mounted in each stadium to track what kind of pitch was thrown, the path of the ball during its flight, the speed of the pitch, and many other statistics. The system also reports the outcome of the pitch (i.e. ball, strike, out, single, etc.).  \n",
    "\n",
    "This project aims to analyze the different aspects of pitches thrown by multiple pitchers to determine what has the greatest affect on the \"quality\" of the pitch. The variables that are being targeted for this analysis are:\n",
    "        \n",
    "        pitch type, velocity, spin rate, zone, pitcher handedness, batter handedness, pitch count, pitch number,\n",
    "        number of outs, release point\n",
    "        \n",
    "Some questions that this information will attempt to answer are:\n",
    "\n",
    "        Does the handedness of a pitcher have a significant impact on average pitch quality?\n",
    "        What part of the delivery should a pitcher focus on the most to increase pitch quality?\n",
    "        Are there any major features that indicate a lower average pitch quality?\n",
    "\n",
    "__Data Source:__ https://baseballsavant.mlb.com/     \n",
    "\n",
    "__Reference Sources:__  \n",
    "- The Quality of Pitches in Major League Baseball (http://people.stat.sfu.ca/~tim/papers/pitching.pdf)\n",
    "- Spin Rate: Why is it so Important for Baseball (http://www.yakkertech.com/2019/05/14/spin-rate-why-is-it-so-important-for-baseball/)\n",
    "\n",
    "\n",
    "## Importing and Cleaning the Data\n",
    "\n",
    "This section focuses on preprocessing the data that will be used in the analysis to follow. First, however, the environment must be setup using imports."
   ]
  },
  {
   "cell_type": "code",
   "execution_count": 1,
   "metadata": {},
   "outputs": [],
   "source": [
    "import numpy as np\n",
    "import pandas as pd\n",
    "import matplotlib.pyplot as plt\n",
    "import seaborn as sbn\n",
    "\n",
    "from sklearn.linear_model import SGDRegressor\n",
    "from sklearn.metrics import mean_squared_error\n",
    "from sklearn.model_selection import train_test_split\n",
    "from sklearn.preprocessing import StandardScaler\n",
    "import warnings\n",
    "warnings.filterwarnings(\"ignore\", category=FutureWarning)\n",
    "\n",
    "%matplotlib inline"
   ]
  },
  {
   "cell_type": "markdown",
   "metadata": {},
   "source": [
    "The data set that this project will work with consists of eight different pitchers in an attempt to gain a broad spectrum on some of the different pitching styles used in the MLB. Half of the pitchers are in starting roles and half are in relief roles, as well as half of the pitchers are left handed and the other half are right handed."
   ]
  },
  {
   "cell_type": "code",
   "execution_count": 2,
   "metadata": {},
   "outputs": [],
   "source": [
    "starting_left1 = pd.read_csv(\"savant_data_kershaw.csv\")\n",
    "starting_left2 = pd.read_csv(\"savant_data_sale.csv\")\n",
    "starting_right1 = pd.read_csv(\"savant_data_verlander.csv\")\n",
    "starting_right2 = pd.read_csv(\"savant_data_greinke.csv\")\n",
    "\n",
    "relief_left1 = pd.read_csv(\"savant_data_claudio.csv\")\n",
    "relief_left2 = pd.read_csv(\"savant_data_kolarek.csv\")\n",
    "relief_right1 = pd.read_csv(\"savant_data_petit.csv\")\n",
    "relief_right2 = pd.read_csv(\"savant_data_suero.csv\")"
   ]
  },
  {
   "cell_type": "markdown",
   "metadata": {},
   "source": [
    "The data was first read into multiple DataFrames seperated by pitcher. These sets can also be appended together to make one large set that can be analyzed using one DataFrame."
   ]
  },
  {
   "cell_type": "code",
   "execution_count": 3,
   "metadata": {},
   "outputs": [
    {
     "name": "stdout",
     "output_type": "stream",
     "text": [
      "<class 'pandas.core.frame.DataFrame'>\n",
      "Int64Index: 15835 entries, 0 to 1209\n",
      "Data columns (total 89 columns):\n",
      "pitch_type                         15561 non-null object\n",
      "game_date                          15835 non-null object\n",
      "release_speed                      15504 non-null float64\n",
      "release_pos_x                      15503 non-null float64\n",
      "release_pos_z                      15503 non-null float64\n",
      "player_name                        15835 non-null object\n",
      "batter                             15835 non-null int64\n",
      "pitcher                            15835 non-null int64\n",
      "events                             4074 non-null object\n",
      "description                        15835 non-null object\n",
      "spin_dir                           0 non-null float64\n",
      "spin_rate_deprecated               0 non-null float64\n",
      "break_angle_deprecated             0 non-null float64\n",
      "break_length_deprecated            0 non-null float64\n",
      "zone                               15503 non-null float64\n",
      "des                                4074 non-null object\n",
      "game_type                          15835 non-null object\n",
      "stand                              15835 non-null object\n",
      "p_throws                           15835 non-null object\n",
      "home_team                          15835 non-null object\n",
      "away_team                          15835 non-null object\n",
      "type                               15835 non-null object\n",
      "hit_location                       3671 non-null float64\n",
      "bb_type                            2673 non-null object\n",
      "balls                              15835 non-null int64\n",
      "strikes                            15835 non-null int64\n",
      "game_year                          15835 non-null int64\n",
      "pfx_x                              15503 non-null float64\n",
      "pfx_z                              15503 non-null float64\n",
      "plate_x                            15503 non-null float64\n",
      "plate_z                            15503 non-null float64\n",
      "on_3b                              1117 non-null float64\n",
      "on_2b                              2318 non-null float64\n",
      "on_1b                              3845 non-null float64\n",
      "outs_when_up                       15835 non-null int64\n",
      "inning                             15835 non-null int64\n",
      "inning_topbot                      15835 non-null object\n",
      "hc_x                               2663 non-null float64\n",
      "hc_y                               2663 non-null float64\n",
      "tfs_deprecated                     0 non-null float64\n",
      "tfs_zulu_deprecated                0 non-null float64\n",
      "fielder_2                          15658 non-null float64\n",
      "umpire                             0 non-null float64\n",
      "sv_id                              15658 non-null object\n",
      "vx0                                15503 non-null float64\n",
      "vy0                                15503 non-null float64\n",
      "vz0                                15503 non-null float64\n",
      "ax                                 15503 non-null float64\n",
      "ay                                 15503 non-null float64\n",
      "az                                 15503 non-null float64\n",
      "sz_top                             15658 non-null float64\n",
      "sz_bot                             15658 non-null float64\n",
      "hit_distance_sc                    3992 non-null float64\n",
      "launch_speed                       4305 non-null float64\n",
      "launch_angle                       4305 non-null float64\n",
      "effective_speed                    15501 non-null float64\n",
      "release_spin_rate                  15352 non-null float64\n",
      "release_extension                  15503 non-null float64\n",
      "game_pk                            15835 non-null int64\n",
      "pitcher.1                          15835 non-null int64\n",
      "fielder_2.1                        15658 non-null float64\n",
      "fielder_3                          15658 non-null float64\n",
      "fielder_4                          15658 non-null float64\n",
      "fielder_5                          15658 non-null float64\n",
      "fielder_6                          15658 non-null float64\n",
      "fielder_7                          15658 non-null float64\n",
      "fielder_8                          15658 non-null float64\n",
      "fielder_9                          15658 non-null float64\n",
      "release_pos_y                      15503 non-null float64\n",
      "estimated_ba_using_speedangle      2673 non-null float64\n",
      "estimated_woba_using_speedangle    2673 non-null float64\n",
      "woba_value                         4074 non-null float64\n",
      "woba_denom                         4074 non-null float64\n",
      "babip_value                        4074 non-null float64\n",
      "iso_value                          4074 non-null float64\n",
      "launch_speed_angle                 2673 non-null float64\n",
      "at_bat_number                      15835 non-null int64\n",
      "pitch_number                       15835 non-null int64\n",
      "pitch_name                         15561 non-null object\n",
      "home_score                         15835 non-null int64\n",
      "away_score                         15835 non-null int64\n",
      "bat_score                          15835 non-null int64\n",
      "fld_score                          15835 non-null int64\n",
      "post_away_score                    15835 non-null int64\n",
      "post_home_score                    15835 non-null int64\n",
      "post_bat_score                     15835 non-null int64\n",
      "post_fld_score                     15835 non-null int64\n",
      "if_fielding_alignment              15653 non-null object\n",
      "of_fielding_alignment              15653 non-null object\n",
      "dtypes: float64(52), int64(19), object(18)\n",
      "memory usage: 10.9+ MB\n"
     ]
    }
   ],
   "source": [
    "pitch_data = starting_left1\n",
    "pitch_data = pitch_data.append([starting_left2,starting_right1,starting_right2,\n",
    "                               relief_left1,relief_left2,relief_right1,relief_right2],\n",
    "                               sort=False)\n",
    "pitch_data.info()"
   ]
  },
  {
   "cell_type": "markdown",
   "metadata": {},
   "source": [
    "Now that all of the pitching data is together, the data can be cleaned to make further analyis easier.  \n",
    "The first step in cleanig this set is dropping columns that are empty or have been deprecated in the PITCHf/x system. These variables will not be useful when analyzing the data."
   ]
  },
  {
   "cell_type": "code",
   "execution_count": 4,
   "metadata": {},
   "outputs": [],
   "source": [
    "pitch_data = pitch_data.drop(columns=['spin_dir','spin_rate_deprecated','break_angle_deprecated',\n",
    "                                      'break_length_deprecated','tfs_deprecated','tfs_zulu_deprecated',\n",
    "                                      'umpire'])"
   ]
  },
  {
   "cell_type": "markdown",
   "metadata": {},
   "source": [
    "With the empty columns dropped, each remaining columns will provide information regarding the status of the game, pitch, or batter for each entry in the set."
   ]
  },
  {
   "cell_type": "code",
   "execution_count": 5,
   "metadata": {},
   "outputs": [
    {
     "name": "stdout",
     "output_type": "stream",
     "text": [
      "<class 'pandas.core.frame.DataFrame'>\n",
      "Int64Index: 15835 entries, 0 to 1209\n",
      "Data columns (total 82 columns):\n",
      "pitch_type                         15561 non-null object\n",
      "game_date                          15835 non-null object\n",
      "release_speed                      15504 non-null float64\n",
      "release_pos_x                      15503 non-null float64\n",
      "release_pos_z                      15503 non-null float64\n",
      "player_name                        15835 non-null object\n",
      "batter                             15835 non-null int64\n",
      "pitcher                            15835 non-null int64\n",
      "events                             4074 non-null object\n",
      "description                        15835 non-null object\n",
      "zone                               15503 non-null float64\n",
      "des                                4074 non-null object\n",
      "game_type                          15835 non-null object\n",
      "stand                              15835 non-null object\n",
      "p_throws                           15835 non-null object\n",
      "home_team                          15835 non-null object\n",
      "away_team                          15835 non-null object\n",
      "type                               15835 non-null object\n",
      "hit_location                       3671 non-null float64\n",
      "bb_type                            2673 non-null object\n",
      "balls                              15835 non-null int64\n",
      "strikes                            15835 non-null int64\n",
      "game_year                          15835 non-null int64\n",
      "pfx_x                              15503 non-null float64\n",
      "pfx_z                              15503 non-null float64\n",
      "plate_x                            15503 non-null float64\n",
      "plate_z                            15503 non-null float64\n",
      "on_3b                              1117 non-null float64\n",
      "on_2b                              2318 non-null float64\n",
      "on_1b                              3845 non-null float64\n",
      "outs_when_up                       15835 non-null int64\n",
      "inning                             15835 non-null int64\n",
      "inning_topbot                      15835 non-null object\n",
      "hc_x                               2663 non-null float64\n",
      "hc_y                               2663 non-null float64\n",
      "fielder_2                          15658 non-null float64\n",
      "sv_id                              15658 non-null object\n",
      "vx0                                15503 non-null float64\n",
      "vy0                                15503 non-null float64\n",
      "vz0                                15503 non-null float64\n",
      "ax                                 15503 non-null float64\n",
      "ay                                 15503 non-null float64\n",
      "az                                 15503 non-null float64\n",
      "sz_top                             15658 non-null float64\n",
      "sz_bot                             15658 non-null float64\n",
      "hit_distance_sc                    3992 non-null float64\n",
      "launch_speed                       4305 non-null float64\n",
      "launch_angle                       4305 non-null float64\n",
      "effective_speed                    15501 non-null float64\n",
      "release_spin_rate                  15352 non-null float64\n",
      "release_extension                  15503 non-null float64\n",
      "game_pk                            15835 non-null int64\n",
      "pitcher.1                          15835 non-null int64\n",
      "fielder_2.1                        15658 non-null float64\n",
      "fielder_3                          15658 non-null float64\n",
      "fielder_4                          15658 non-null float64\n",
      "fielder_5                          15658 non-null float64\n",
      "fielder_6                          15658 non-null float64\n",
      "fielder_7                          15658 non-null float64\n",
      "fielder_8                          15658 non-null float64\n",
      "fielder_9                          15658 non-null float64\n",
      "release_pos_y                      15503 non-null float64\n",
      "estimated_ba_using_speedangle      2673 non-null float64\n",
      "estimated_woba_using_speedangle    2673 non-null float64\n",
      "woba_value                         4074 non-null float64\n",
      "woba_denom                         4074 non-null float64\n",
      "babip_value                        4074 non-null float64\n",
      "iso_value                          4074 non-null float64\n",
      "launch_speed_angle                 2673 non-null float64\n",
      "at_bat_number                      15835 non-null int64\n",
      "pitch_number                       15835 non-null int64\n",
      "pitch_name                         15561 non-null object\n",
      "home_score                         15835 non-null int64\n",
      "away_score                         15835 non-null int64\n",
      "bat_score                          15835 non-null int64\n",
      "fld_score                          15835 non-null int64\n",
      "post_away_score                    15835 non-null int64\n",
      "post_home_score                    15835 non-null int64\n",
      "post_bat_score                     15835 non-null int64\n",
      "post_fld_score                     15835 non-null int64\n",
      "if_fielding_alignment              15653 non-null object\n",
      "of_fielding_alignment              15653 non-null object\n",
      "dtypes: float64(45), int64(19), object(18)\n",
      "memory usage: 10.0+ MB\n"
     ]
    }
   ],
   "source": [
    "pitch_data.info()"
   ]
  },
  {
   "cell_type": "markdown",
   "metadata": {},
   "source": [
    "With the empty columns gone, the next issue that can be tackled is handling missing data in the remaining features. For some of the critcal features, or those that have previously been estimated to have a major impact on the quality of the pitch, the rows will simply have to be removed to eliminate large sources of error. These features include pitch type, velocity, spin rate, handedness of the pitcher and batter, pitch count, and pitch zone."
   ]
  },
  {
   "cell_type": "code",
   "execution_count": 6,
   "metadata": {},
   "outputs": [],
   "source": [
    "all_names = ['pitch_type','release_speed','release_spin_rate','zone']\n",
    "pitch_data = pitch_data[~pitch_data['pitch_type'].isnull()]\n",
    "pitch_data = pitch_data[~pitch_data['release_speed'].isnull()]\n",
    "pitch_data = pitch_data[~pitch_data['release_spin_rate'].isnull()]\n",
    "pitch_data = pitch_data[~pitch_data['zone'].isnull()]"
   ]
  },
  {
   "cell_type": "markdown",
   "metadata": {},
   "source": [
    "One of the other critical features to consider when evaluating pitches is the outcome. This analysis is focused on the number of bases gained from each pitch, which is described by the events and description features of the data set. The events feature has null values for all pitches that do not end the at-bat, but the description feature has information about every pitch.   \n",
    "Using this information, the null values in the events feature can be replaced with pitch events."
   ]
  },
  {
   "cell_type": "code",
   "execution_count": 7,
   "metadata": {},
   "outputs": [],
   "source": [
    "pitch_data['events'] = pitch_data['events'].fillna(\"pitch\")"
   ]
  },
  {
   "cell_type": "markdown",
   "metadata": {},
   "source": [
    "With some of the rows removed, the DataFrame information can be checked again to ensure that each of the previously mentioned critical columns does not have any missing values."
   ]
  },
  {
   "cell_type": "code",
   "execution_count": 8,
   "metadata": {},
   "outputs": [
    {
     "name": "stdout",
     "output_type": "stream",
     "text": [
      "<class 'pandas.core.frame.DataFrame'>\n",
      "Int64Index: 15352 entries, 0 to 1209\n",
      "Data columns (total 82 columns):\n",
      "pitch_type                         15352 non-null object\n",
      "game_date                          15352 non-null object\n",
      "release_speed                      15352 non-null float64\n",
      "release_pos_x                      15352 non-null float64\n",
      "release_pos_z                      15352 non-null float64\n",
      "player_name                        15352 non-null object\n",
      "batter                             15352 non-null int64\n",
      "pitcher                            15352 non-null int64\n",
      "events                             15352 non-null object\n",
      "description                        15352 non-null object\n",
      "zone                               15352 non-null float64\n",
      "des                                3948 non-null object\n",
      "game_type                          15352 non-null object\n",
      "stand                              15352 non-null object\n",
      "p_throws                           15352 non-null object\n",
      "home_team                          15352 non-null object\n",
      "away_team                          15352 non-null object\n",
      "type                               15352 non-null object\n",
      "hit_location                       3557 non-null float64\n",
      "bb_type                            2596 non-null object\n",
      "balls                              15352 non-null int64\n",
      "strikes                            15352 non-null int64\n",
      "game_year                          15352 non-null int64\n",
      "pfx_x                              15352 non-null float64\n",
      "pfx_z                              15352 non-null float64\n",
      "plate_x                            15352 non-null float64\n",
      "plate_z                            15352 non-null float64\n",
      "on_3b                              1100 non-null float64\n",
      "on_2b                              2250 non-null float64\n",
      "on_1b                              3742 non-null float64\n",
      "outs_when_up                       15352 non-null int64\n",
      "inning                             15352 non-null int64\n",
      "inning_topbot                      15352 non-null object\n",
      "hc_x                               2587 non-null float64\n",
      "hc_y                               2587 non-null float64\n",
      "fielder_2                          15352 non-null float64\n",
      "sv_id                              15352 non-null object\n",
      "vx0                                15352 non-null float64\n",
      "vy0                                15352 non-null float64\n",
      "vz0                                15352 non-null float64\n",
      "ax                                 15352 non-null float64\n",
      "ay                                 15352 non-null float64\n",
      "az                                 15352 non-null float64\n",
      "sz_top                             15352 non-null float64\n",
      "sz_bot                             15352 non-null float64\n",
      "hit_distance_sc                    3959 non-null float64\n",
      "launch_speed                       4213 non-null float64\n",
      "launch_angle                       4213 non-null float64\n",
      "effective_speed                    15350 non-null float64\n",
      "release_spin_rate                  15352 non-null float64\n",
      "release_extension                  15352 non-null float64\n",
      "game_pk                            15352 non-null int64\n",
      "pitcher.1                          15352 non-null int64\n",
      "fielder_2.1                        15352 non-null float64\n",
      "fielder_3                          15352 non-null float64\n",
      "fielder_4                          15352 non-null float64\n",
      "fielder_5                          15352 non-null float64\n",
      "fielder_6                          15352 non-null float64\n",
      "fielder_7                          15352 non-null float64\n",
      "fielder_8                          15352 non-null float64\n",
      "fielder_9                          15352 non-null float64\n",
      "release_pos_y                      15352 non-null float64\n",
      "estimated_ba_using_speedangle      2596 non-null float64\n",
      "estimated_woba_using_speedangle    2596 non-null float64\n",
      "woba_value                         3948 non-null float64\n",
      "woba_denom                         3948 non-null float64\n",
      "babip_value                        3948 non-null float64\n",
      "iso_value                          3948 non-null float64\n",
      "launch_speed_angle                 2596 non-null float64\n",
      "at_bat_number                      15352 non-null int64\n",
      "pitch_number                       15352 non-null int64\n",
      "pitch_name                         15352 non-null object\n",
      "home_score                         15352 non-null int64\n",
      "away_score                         15352 non-null int64\n",
      "bat_score                          15352 non-null int64\n",
      "fld_score                          15352 non-null int64\n",
      "post_away_score                    15352 non-null int64\n",
      "post_home_score                    15352 non-null int64\n",
      "post_bat_score                     15352 non-null int64\n",
      "post_fld_score                     15352 non-null int64\n",
      "if_fielding_alignment              15347 non-null object\n",
      "of_fielding_alignment              15347 non-null object\n",
      "dtypes: float64(45), int64(19), object(18)\n",
      "memory usage: 9.7+ MB\n"
     ]
    }
   ],
   "source": [
    "pitch_data.info()"
   ]
  },
  {
   "cell_type": "markdown",
   "metadata": {},
   "source": [
    "With all of the events filled out, a new feature can be engineered to show the number of bases gained from each pitch. The number of bases for each of the balls hit into play will be taken directly from the result of the play. Probable bases from balls and strikes have been calculated based off of the pitch count from Swartz, P., Grosskopf, Bingham, & Swartz, T. (2016)."
   ]
  },
  {
   "cell_type": "code",
   "execution_count": 9,
   "metadata": {},
   "outputs": [],
   "source": [
    "bases = []\n",
    "ball_count_bases = np.array([[0.51,0.61,0.79],[0.42,0.51,0.69],[0.32,0.39,0.55]])\n",
    "strike_count_bases = np.array([[0.37,0.42,0.51,0.68],[0.28,0.31,0.38,0.54],[0.28,0.31,0.38,0.54]])\n",
    "for index, rows in pitch_data.iterrows() :\n",
    "    if (rows['events'] == 'pitch' ) :\n",
    "        if(rows['type'] == 'B') :\n",
    "            bases.append(ball_count_bases[rows['strikes']][rows['balls']])\n",
    "        else :\n",
    "            bases.append(strike_count_bases[rows['strikes']][rows['balls']])\n",
    "    elif(rows['events'] == 'single' or rows['events'] == 'hit_by_pitch' or rows['events'] == 'walk'):\n",
    "        bases.append(1)\n",
    "    elif(rows['events'] == 'double') :\n",
    "        bases.append(2)\n",
    "    elif(rows['events'] == 'triple') :\n",
    "        bases.append(3)\n",
    "    elif(rows['events'] == 'home_run') :\n",
    "        bases.append(4)\n",
    "    else :\n",
    "        bases.append(0)\n",
    "        \n",
    "        \n",
    "pitch_data['bases'] = bases"
   ]
  },
  {
   "cell_type": "markdown",
   "metadata": {},
   "source": [
    "Now that the null values have been dealt with and the bases have been calculated, a subset of them can be checked to make sure that they are good candidates to be categorical variables."
   ]
  },
  {
   "cell_type": "code",
   "execution_count": 10,
   "metadata": {},
   "outputs": [
    {
     "name": "stdout",
     "output_type": "stream",
     "text": [
      "Number of Unique Pitch Types: 9\n",
      "Number of Unique Pitch Result Types: 3\n",
      "Number of Unique Events: 25\n",
      "Number of Unique Descriptions: 13\n",
      "Number of Unique Handedness: 2\n",
      "Number of Unique Ball Counts: 4\n",
      "Number of Unique Strike Counts: 3\n",
      "Number of Unique Pitch Numbers: 13\n",
      "Number of Unique Outs: 3\n",
      "Number of Unique Zones: 13\n"
     ]
    }
   ],
   "source": [
    "print(\"Number of Unique Pitch Types: \" + str(len(set(pitch_data[\"pitch_type\"]))))\n",
    "print(\"Number of Unique Pitch Result Types: \" + str(len(set(pitch_data[\"type\"]))))\n",
    "print(\"Number of Unique Events: \" + str(len(set(pitch_data[\"events\"]))))\n",
    "print(\"Number of Unique Descriptions: \" + str(len(set(pitch_data[\"description\"]))))\n",
    "print(\"Number of Unique Handedness: \" + str(len(set(pitch_data[\"p_throws\"]))))\n",
    "print(\"Number of Unique Ball Counts: \" + str(len(set(pitch_data[\"balls\"]))))\n",
    "print(\"Number of Unique Strike Counts: \" + str(len(set(pitch_data[\"strikes\"]))))\n",
    "print(\"Number of Unique Pitch Numbers: \" + str(len(set(pitch_data[\"pitch_number\"]))))\n",
    "print(\"Number of Unique Outs: \" + str(len(set(pitch_data[\"outs_when_up\"]))))\n",
    "print(\"Number of Unique Zones: \" + str(len(set(pitch_data[\"zone\"]))))"
   ]
  },
  {
   "cell_type": "markdown",
   "metadata": {},
   "source": [
    "Each of the features listed above, as well as batter stance, are good candidates to be categories  \n",
    "The following code shifts each of them to be represented as categories."
   ]
  },
  {
   "cell_type": "code",
   "execution_count": 11,
   "metadata": {},
   "outputs": [],
   "source": [
    "cat_names = [\"pitch_type\", \"type\", \"events\", \"description\", \"p_throws\", \"balls\", \"strikes\", \"outs_when_up\", \"zone\", \"stand\",\n",
    "            \"pitch_number\"]\n",
    "\n",
    "for name in cat_names :\n",
    "    pitch_data[name] = pitch_data[name].astype(\"category\")\n",
    "    \n",
    "# Append relevant features to list of all features\n",
    "for name in [\"p_throws\", \"balls\", \"strikes\", \"outs_when_up\", \"stand\", \"pitch_number\"] :\n",
    "    all_names.append(name)"
   ]
  },
  {
   "cell_type": "markdown",
   "metadata": {},
   "source": [
    "Finally, the data set that will be analyzed can be be shown using the head and info functions."
   ]
  },
  {
   "cell_type": "code",
   "execution_count": 12,
   "metadata": {
    "scrolled": true
   },
   "outputs": [
    {
     "data": {
      "text/html": [
       "<div>\n",
       "<style scoped>\n",
       "    .dataframe tbody tr th:only-of-type {\n",
       "        vertical-align: middle;\n",
       "    }\n",
       "\n",
       "    .dataframe tbody tr th {\n",
       "        vertical-align: top;\n",
       "    }\n",
       "\n",
       "    .dataframe thead th {\n",
       "        text-align: right;\n",
       "    }\n",
       "</style>\n",
       "<table border=\"1\" class=\"dataframe\">\n",
       "  <thead>\n",
       "    <tr style=\"text-align: right;\">\n",
       "      <th></th>\n",
       "      <th>pitch_type</th>\n",
       "      <th>game_date</th>\n",
       "      <th>release_speed</th>\n",
       "      <th>release_pos_x</th>\n",
       "      <th>release_pos_z</th>\n",
       "      <th>player_name</th>\n",
       "      <th>batter</th>\n",
       "      <th>pitcher</th>\n",
       "      <th>events</th>\n",
       "      <th>description</th>\n",
       "      <th>...</th>\n",
       "      <th>away_score</th>\n",
       "      <th>bat_score</th>\n",
       "      <th>fld_score</th>\n",
       "      <th>post_away_score</th>\n",
       "      <th>post_home_score</th>\n",
       "      <th>post_bat_score</th>\n",
       "      <th>post_fld_score</th>\n",
       "      <th>if_fielding_alignment</th>\n",
       "      <th>of_fielding_alignment</th>\n",
       "      <th>bases</th>\n",
       "    </tr>\n",
       "  </thead>\n",
       "  <tbody>\n",
       "    <tr>\n",
       "      <th>0</th>\n",
       "      <td>FF</td>\n",
       "      <td>2019-09-29</td>\n",
       "      <td>90.5</td>\n",
       "      <td>1.3508</td>\n",
       "      <td>6.1911</td>\n",
       "      <td>Clayton Kershaw</td>\n",
       "      <td>518516</td>\n",
       "      <td>477132</td>\n",
       "      <td>field_out</td>\n",
       "      <td>hit_into_play</td>\n",
       "      <td>...</td>\n",
       "      <td>5</td>\n",
       "      <td>0</td>\n",
       "      <td>5</td>\n",
       "      <td>5</td>\n",
       "      <td>0</td>\n",
       "      <td>0</td>\n",
       "      <td>5</td>\n",
       "      <td>Infield shift</td>\n",
       "      <td>Standard</td>\n",
       "      <td>0.00</td>\n",
       "    </tr>\n",
       "    <tr>\n",
       "      <th>1</th>\n",
       "      <td>FF</td>\n",
       "      <td>2019-09-29</td>\n",
       "      <td>91.1</td>\n",
       "      <td>1.3839</td>\n",
       "      <td>6.1994</td>\n",
       "      <td>Clayton Kershaw</td>\n",
       "      <td>518516</td>\n",
       "      <td>477132</td>\n",
       "      <td>pitch</td>\n",
       "      <td>foul</td>\n",
       "      <td>...</td>\n",
       "      <td>5</td>\n",
       "      <td>0</td>\n",
       "      <td>5</td>\n",
       "      <td>5</td>\n",
       "      <td>0</td>\n",
       "      <td>0</td>\n",
       "      <td>5</td>\n",
       "      <td>Infield shift</td>\n",
       "      <td>Standard</td>\n",
       "      <td>0.54</td>\n",
       "    </tr>\n",
       "    <tr>\n",
       "      <th>2</th>\n",
       "      <td>FF</td>\n",
       "      <td>2019-09-29</td>\n",
       "      <td>89.7</td>\n",
       "      <td>1.4225</td>\n",
       "      <td>6.2320</td>\n",
       "      <td>Clayton Kershaw</td>\n",
       "      <td>518516</td>\n",
       "      <td>477132</td>\n",
       "      <td>pitch</td>\n",
       "      <td>ball</td>\n",
       "      <td>...</td>\n",
       "      <td>5</td>\n",
       "      <td>0</td>\n",
       "      <td>5</td>\n",
       "      <td>5</td>\n",
       "      <td>0</td>\n",
       "      <td>0</td>\n",
       "      <td>5</td>\n",
       "      <td>Infield shift</td>\n",
       "      <td>Standard</td>\n",
       "      <td>0.55</td>\n",
       "    </tr>\n",
       "    <tr>\n",
       "      <th>3</th>\n",
       "      <td>FF</td>\n",
       "      <td>2019-09-29</td>\n",
       "      <td>90.3</td>\n",
       "      <td>1.3502</td>\n",
       "      <td>6.2253</td>\n",
       "      <td>Clayton Kershaw</td>\n",
       "      <td>518516</td>\n",
       "      <td>477132</td>\n",
       "      <td>pitch</td>\n",
       "      <td>called_strike</td>\n",
       "      <td>...</td>\n",
       "      <td>5</td>\n",
       "      <td>0</td>\n",
       "      <td>5</td>\n",
       "      <td>5</td>\n",
       "      <td>0</td>\n",
       "      <td>0</td>\n",
       "      <td>5</td>\n",
       "      <td>Infield shift</td>\n",
       "      <td>Standard</td>\n",
       "      <td>0.38</td>\n",
       "    </tr>\n",
       "    <tr>\n",
       "      <th>4</th>\n",
       "      <td>FF</td>\n",
       "      <td>2019-09-29</td>\n",
       "      <td>90.1</td>\n",
       "      <td>1.4813</td>\n",
       "      <td>6.3368</td>\n",
       "      <td>Clayton Kershaw</td>\n",
       "      <td>518516</td>\n",
       "      <td>477132</td>\n",
       "      <td>pitch</td>\n",
       "      <td>ball</td>\n",
       "      <td>...</td>\n",
       "      <td>5</td>\n",
       "      <td>0</td>\n",
       "      <td>5</td>\n",
       "      <td>5</td>\n",
       "      <td>0</td>\n",
       "      <td>0</td>\n",
       "      <td>5</td>\n",
       "      <td>Infield shift</td>\n",
       "      <td>Standard</td>\n",
       "      <td>0.51</td>\n",
       "    </tr>\n",
       "    <tr>\n",
       "      <th>5</th>\n",
       "      <td>FF</td>\n",
       "      <td>2019-09-29</td>\n",
       "      <td>90.7</td>\n",
       "      <td>1.2976</td>\n",
       "      <td>6.3329</td>\n",
       "      <td>Clayton Kershaw</td>\n",
       "      <td>518516</td>\n",
       "      <td>477132</td>\n",
       "      <td>pitch</td>\n",
       "      <td>ball</td>\n",
       "      <td>...</td>\n",
       "      <td>5</td>\n",
       "      <td>0</td>\n",
       "      <td>5</td>\n",
       "      <td>5</td>\n",
       "      <td>0</td>\n",
       "      <td>0</td>\n",
       "      <td>5</td>\n",
       "      <td>Infield shift</td>\n",
       "      <td>Standard</td>\n",
       "      <td>0.42</td>\n",
       "    </tr>\n",
       "    <tr>\n",
       "      <th>6</th>\n",
       "      <td>FF</td>\n",
       "      <td>2019-09-29</td>\n",
       "      <td>90.8</td>\n",
       "      <td>1.3868</td>\n",
       "      <td>6.2242</td>\n",
       "      <td>Clayton Kershaw</td>\n",
       "      <td>518516</td>\n",
       "      <td>477132</td>\n",
       "      <td>pitch</td>\n",
       "      <td>foul</td>\n",
       "      <td>...</td>\n",
       "      <td>5</td>\n",
       "      <td>0</td>\n",
       "      <td>5</td>\n",
       "      <td>5</td>\n",
       "      <td>0</td>\n",
       "      <td>0</td>\n",
       "      <td>5</td>\n",
       "      <td>Infield shift</td>\n",
       "      <td>Standard</td>\n",
       "      <td>0.37</td>\n",
       "    </tr>\n",
       "    <tr>\n",
       "      <th>7</th>\n",
       "      <td>SL</td>\n",
       "      <td>2019-09-29</td>\n",
       "      <td>86.9</td>\n",
       "      <td>1.3294</td>\n",
       "      <td>6.3412</td>\n",
       "      <td>Clayton Kershaw</td>\n",
       "      <td>664041</td>\n",
       "      <td>477132</td>\n",
       "      <td>strikeout</td>\n",
       "      <td>swinging_strike_blocked</td>\n",
       "      <td>...</td>\n",
       "      <td>5</td>\n",
       "      <td>0</td>\n",
       "      <td>5</td>\n",
       "      <td>5</td>\n",
       "      <td>0</td>\n",
       "      <td>0</td>\n",
       "      <td>5</td>\n",
       "      <td>Infield shift</td>\n",
       "      <td>Standard</td>\n",
       "      <td>0.00</td>\n",
       "    </tr>\n",
       "    <tr>\n",
       "      <th>8</th>\n",
       "      <td>SL</td>\n",
       "      <td>2019-09-29</td>\n",
       "      <td>86.5</td>\n",
       "      <td>1.3640</td>\n",
       "      <td>6.3510</td>\n",
       "      <td>Clayton Kershaw</td>\n",
       "      <td>664041</td>\n",
       "      <td>477132</td>\n",
       "      <td>pitch</td>\n",
       "      <td>foul</td>\n",
       "      <td>...</td>\n",
       "      <td>5</td>\n",
       "      <td>0</td>\n",
       "      <td>5</td>\n",
       "      <td>5</td>\n",
       "      <td>0</td>\n",
       "      <td>0</td>\n",
       "      <td>5</td>\n",
       "      <td>Infield shift</td>\n",
       "      <td>Standard</td>\n",
       "      <td>0.38</td>\n",
       "    </tr>\n",
       "    <tr>\n",
       "      <th>9</th>\n",
       "      <td>SL</td>\n",
       "      <td>2019-09-29</td>\n",
       "      <td>85.7</td>\n",
       "      <td>1.3870</td>\n",
       "      <td>6.4169</td>\n",
       "      <td>Clayton Kershaw</td>\n",
       "      <td>664041</td>\n",
       "      <td>477132</td>\n",
       "      <td>pitch</td>\n",
       "      <td>foul</td>\n",
       "      <td>...</td>\n",
       "      <td>5</td>\n",
       "      <td>0</td>\n",
       "      <td>5</td>\n",
       "      <td>5</td>\n",
       "      <td>0</td>\n",
       "      <td>0</td>\n",
       "      <td>5</td>\n",
       "      <td>Infield shift</td>\n",
       "      <td>Standard</td>\n",
       "      <td>0.38</td>\n",
       "    </tr>\n",
       "    <tr>\n",
       "      <th>10</th>\n",
       "      <td>CU</td>\n",
       "      <td>2019-09-29</td>\n",
       "      <td>74.3</td>\n",
       "      <td>1.1022</td>\n",
       "      <td>6.3610</td>\n",
       "      <td>Clayton Kershaw</td>\n",
       "      <td>664041</td>\n",
       "      <td>477132</td>\n",
       "      <td>pitch</td>\n",
       "      <td>ball</td>\n",
       "      <td>...</td>\n",
       "      <td>5</td>\n",
       "      <td>0</td>\n",
       "      <td>5</td>\n",
       "      <td>5</td>\n",
       "      <td>0</td>\n",
       "      <td>0</td>\n",
       "      <td>5</td>\n",
       "      <td>Infield shift</td>\n",
       "      <td>Standard</td>\n",
       "      <td>0.39</td>\n",
       "    </tr>\n",
       "    <tr>\n",
       "      <th>11</th>\n",
       "      <td>CU</td>\n",
       "      <td>2019-09-29</td>\n",
       "      <td>72.7</td>\n",
       "      <td>1.1708</td>\n",
       "      <td>6.4309</td>\n",
       "      <td>Clayton Kershaw</td>\n",
       "      <td>664041</td>\n",
       "      <td>477132</td>\n",
       "      <td>pitch</td>\n",
       "      <td>swinging_strike</td>\n",
       "      <td>...</td>\n",
       "      <td>5</td>\n",
       "      <td>0</td>\n",
       "      <td>5</td>\n",
       "      <td>5</td>\n",
       "      <td>0</td>\n",
       "      <td>0</td>\n",
       "      <td>5</td>\n",
       "      <td>Infield shift</td>\n",
       "      <td>Standard</td>\n",
       "      <td>0.31</td>\n",
       "    </tr>\n",
       "    <tr>\n",
       "      <th>12</th>\n",
       "      <td>FF</td>\n",
       "      <td>2019-09-29</td>\n",
       "      <td>90.0</td>\n",
       "      <td>1.4682</td>\n",
       "      <td>6.2935</td>\n",
       "      <td>Clayton Kershaw</td>\n",
       "      <td>664041</td>\n",
       "      <td>477132</td>\n",
       "      <td>pitch</td>\n",
       "      <td>foul</td>\n",
       "      <td>...</td>\n",
       "      <td>5</td>\n",
       "      <td>0</td>\n",
       "      <td>5</td>\n",
       "      <td>5</td>\n",
       "      <td>0</td>\n",
       "      <td>0</td>\n",
       "      <td>5</td>\n",
       "      <td>Infield shift</td>\n",
       "      <td>Standard</td>\n",
       "      <td>0.42</td>\n",
       "    </tr>\n",
       "    <tr>\n",
       "      <th>13</th>\n",
       "      <td>FF</td>\n",
       "      <td>2019-09-29</td>\n",
       "      <td>90.2</td>\n",
       "      <td>1.5345</td>\n",
       "      <td>6.2454</td>\n",
       "      <td>Clayton Kershaw</td>\n",
       "      <td>664041</td>\n",
       "      <td>477132</td>\n",
       "      <td>pitch</td>\n",
       "      <td>ball</td>\n",
       "      <td>...</td>\n",
       "      <td>5</td>\n",
       "      <td>0</td>\n",
       "      <td>5</td>\n",
       "      <td>5</td>\n",
       "      <td>0</td>\n",
       "      <td>0</td>\n",
       "      <td>5</td>\n",
       "      <td>Infield shift</td>\n",
       "      <td>Standard</td>\n",
       "      <td>0.51</td>\n",
       "    </tr>\n",
       "    <tr>\n",
       "      <th>14</th>\n",
       "      <td>SL</td>\n",
       "      <td>2019-09-29</td>\n",
       "      <td>87.0</td>\n",
       "      <td>1.6001</td>\n",
       "      <td>6.3708</td>\n",
       "      <td>Clayton Kershaw</td>\n",
       "      <td>474832</td>\n",
       "      <td>477132</td>\n",
       "      <td>field_out</td>\n",
       "      <td>hit_into_play</td>\n",
       "      <td>...</td>\n",
       "      <td>5</td>\n",
       "      <td>0</td>\n",
       "      <td>5</td>\n",
       "      <td>5</td>\n",
       "      <td>0</td>\n",
       "      <td>0</td>\n",
       "      <td>5</td>\n",
       "      <td>Infield shift</td>\n",
       "      <td>Strategic</td>\n",
       "      <td>0.00</td>\n",
       "    </tr>\n",
       "    <tr>\n",
       "      <th>15</th>\n",
       "      <td>SL</td>\n",
       "      <td>2019-09-29</td>\n",
       "      <td>87.2</td>\n",
       "      <td>1.5410</td>\n",
       "      <td>6.3023</td>\n",
       "      <td>Clayton Kershaw</td>\n",
       "      <td>474832</td>\n",
       "      <td>477132</td>\n",
       "      <td>pitch</td>\n",
       "      <td>ball</td>\n",
       "      <td>...</td>\n",
       "      <td>5</td>\n",
       "      <td>0</td>\n",
       "      <td>5</td>\n",
       "      <td>5</td>\n",
       "      <td>0</td>\n",
       "      <td>0</td>\n",
       "      <td>5</td>\n",
       "      <td>Infield shift</td>\n",
       "      <td>Strategic</td>\n",
       "      <td>0.32</td>\n",
       "    </tr>\n",
       "    <tr>\n",
       "      <th>16</th>\n",
       "      <td>FF</td>\n",
       "      <td>2019-09-29</td>\n",
       "      <td>90.7</td>\n",
       "      <td>1.5234</td>\n",
       "      <td>6.2684</td>\n",
       "      <td>Clayton Kershaw</td>\n",
       "      <td>474832</td>\n",
       "      <td>477132</td>\n",
       "      <td>pitch</td>\n",
       "      <td>called_strike</td>\n",
       "      <td>...</td>\n",
       "      <td>5</td>\n",
       "      <td>0</td>\n",
       "      <td>5</td>\n",
       "      <td>5</td>\n",
       "      <td>0</td>\n",
       "      <td>0</td>\n",
       "      <td>5</td>\n",
       "      <td>Infield shift</td>\n",
       "      <td>Strategic</td>\n",
       "      <td>0.28</td>\n",
       "    </tr>\n",
       "    <tr>\n",
       "      <th>17</th>\n",
       "      <td>FF</td>\n",
       "      <td>2019-09-29</td>\n",
       "      <td>91.5</td>\n",
       "      <td>1.4780</td>\n",
       "      <td>6.3117</td>\n",
       "      <td>Clayton Kershaw</td>\n",
       "      <td>474832</td>\n",
       "      <td>477132</td>\n",
       "      <td>pitch</td>\n",
       "      <td>swinging_strike</td>\n",
       "      <td>...</td>\n",
       "      <td>5</td>\n",
       "      <td>0</td>\n",
       "      <td>5</td>\n",
       "      <td>5</td>\n",
       "      <td>0</td>\n",
       "      <td>0</td>\n",
       "      <td>5</td>\n",
       "      <td>Infield shift</td>\n",
       "      <td>Strategic</td>\n",
       "      <td>0.37</td>\n",
       "    </tr>\n",
       "    <tr>\n",
       "      <th>18</th>\n",
       "      <td>SL</td>\n",
       "      <td>2019-09-26</td>\n",
       "      <td>87.2</td>\n",
       "      <td>1.0030</td>\n",
       "      <td>6.3049</td>\n",
       "      <td>Clayton Kershaw</td>\n",
       "      <td>592518</td>\n",
       "      <td>477132</td>\n",
       "      <td>strikeout</td>\n",
       "      <td>swinging_strike</td>\n",
       "      <td>...</td>\n",
       "      <td>1</td>\n",
       "      <td>0</td>\n",
       "      <td>1</td>\n",
       "      <td>1</td>\n",
       "      <td>0</td>\n",
       "      <td>0</td>\n",
       "      <td>1</td>\n",
       "      <td>Standard</td>\n",
       "      <td>Standard</td>\n",
       "      <td>0.00</td>\n",
       "    </tr>\n",
       "    <tr>\n",
       "      <th>19</th>\n",
       "      <td>CU</td>\n",
       "      <td>2019-09-26</td>\n",
       "      <td>74.4</td>\n",
       "      <td>0.8531</td>\n",
       "      <td>6.2655</td>\n",
       "      <td>Clayton Kershaw</td>\n",
       "      <td>592518</td>\n",
       "      <td>477132</td>\n",
       "      <td>pitch</td>\n",
       "      <td>blocked_ball</td>\n",
       "      <td>...</td>\n",
       "      <td>1</td>\n",
       "      <td>0</td>\n",
       "      <td>1</td>\n",
       "      <td>1</td>\n",
       "      <td>0</td>\n",
       "      <td>0</td>\n",
       "      <td>1</td>\n",
       "      <td>Standard</td>\n",
       "      <td>Standard</td>\n",
       "      <td>0.39</td>\n",
       "    </tr>\n",
       "    <tr>\n",
       "      <th>20</th>\n",
       "      <td>FF</td>\n",
       "      <td>2019-09-26</td>\n",
       "      <td>91.1</td>\n",
       "      <td>1.2504</td>\n",
       "      <td>6.2842</td>\n",
       "      <td>Clayton Kershaw</td>\n",
       "      <td>592518</td>\n",
       "      <td>477132</td>\n",
       "      <td>pitch</td>\n",
       "      <td>foul</td>\n",
       "      <td>...</td>\n",
       "      <td>1</td>\n",
       "      <td>0</td>\n",
       "      <td>1</td>\n",
       "      <td>1</td>\n",
       "      <td>0</td>\n",
       "      <td>0</td>\n",
       "      <td>1</td>\n",
       "      <td>Standard</td>\n",
       "      <td>Standard</td>\n",
       "      <td>0.31</td>\n",
       "    </tr>\n",
       "    <tr>\n",
       "      <th>21</th>\n",
       "      <td>SL</td>\n",
       "      <td>2019-09-26</td>\n",
       "      <td>86.6</td>\n",
       "      <td>1.2205</td>\n",
       "      <td>6.3420</td>\n",
       "      <td>Clayton Kershaw</td>\n",
       "      <td>592518</td>\n",
       "      <td>477132</td>\n",
       "      <td>pitch</td>\n",
       "      <td>blocked_ball</td>\n",
       "      <td>...</td>\n",
       "      <td>1</td>\n",
       "      <td>0</td>\n",
       "      <td>1</td>\n",
       "      <td>1</td>\n",
       "      <td>0</td>\n",
       "      <td>0</td>\n",
       "      <td>1</td>\n",
       "      <td>Standard</td>\n",
       "      <td>Standard</td>\n",
       "      <td>0.42</td>\n",
       "    </tr>\n",
       "    <tr>\n",
       "      <th>22</th>\n",
       "      <td>FF</td>\n",
       "      <td>2019-09-26</td>\n",
       "      <td>91.1</td>\n",
       "      <td>1.0538</td>\n",
       "      <td>6.2742</td>\n",
       "      <td>Clayton Kershaw</td>\n",
       "      <td>592518</td>\n",
       "      <td>477132</td>\n",
       "      <td>pitch</td>\n",
       "      <td>called_strike</td>\n",
       "      <td>...</td>\n",
       "      <td>1</td>\n",
       "      <td>0</td>\n",
       "      <td>1</td>\n",
       "      <td>1</td>\n",
       "      <td>0</td>\n",
       "      <td>0</td>\n",
       "      <td>1</td>\n",
       "      <td>Standard</td>\n",
       "      <td>Standard</td>\n",
       "      <td>0.37</td>\n",
       "    </tr>\n",
       "    <tr>\n",
       "      <th>23</th>\n",
       "      <td>SL</td>\n",
       "      <td>2019-09-26</td>\n",
       "      <td>88.0</td>\n",
       "      <td>1.2164</td>\n",
       "      <td>6.2719</td>\n",
       "      <td>Clayton Kershaw</td>\n",
       "      <td>647304</td>\n",
       "      <td>477132</td>\n",
       "      <td>strikeout</td>\n",
       "      <td>swinging_strike</td>\n",
       "      <td>...</td>\n",
       "      <td>1</td>\n",
       "      <td>0</td>\n",
       "      <td>1</td>\n",
       "      <td>1</td>\n",
       "      <td>0</td>\n",
       "      <td>0</td>\n",
       "      <td>1</td>\n",
       "      <td>Standard</td>\n",
       "      <td>Standard</td>\n",
       "      <td>0.00</td>\n",
       "    </tr>\n",
       "    <tr>\n",
       "      <th>24</th>\n",
       "      <td>CU</td>\n",
       "      <td>2019-09-26</td>\n",
       "      <td>75.5</td>\n",
       "      <td>0.7327</td>\n",
       "      <td>6.3313</td>\n",
       "      <td>Clayton Kershaw</td>\n",
       "      <td>647304</td>\n",
       "      <td>477132</td>\n",
       "      <td>pitch</td>\n",
       "      <td>ball</td>\n",
       "      <td>...</td>\n",
       "      <td>1</td>\n",
       "      <td>0</td>\n",
       "      <td>1</td>\n",
       "      <td>1</td>\n",
       "      <td>0</td>\n",
       "      <td>0</td>\n",
       "      <td>1</td>\n",
       "      <td>Infield shift</td>\n",
       "      <td>Strategic</td>\n",
       "      <td>0.32</td>\n",
       "    </tr>\n",
       "    <tr>\n",
       "      <th>25</th>\n",
       "      <td>FF</td>\n",
       "      <td>2019-09-26</td>\n",
       "      <td>90.6</td>\n",
       "      <td>1.2231</td>\n",
       "      <td>6.3140</td>\n",
       "      <td>Clayton Kershaw</td>\n",
       "      <td>647304</td>\n",
       "      <td>477132</td>\n",
       "      <td>pitch</td>\n",
       "      <td>foul</td>\n",
       "      <td>...</td>\n",
       "      <td>1</td>\n",
       "      <td>0</td>\n",
       "      <td>1</td>\n",
       "      <td>1</td>\n",
       "      <td>0</td>\n",
       "      <td>0</td>\n",
       "      <td>1</td>\n",
       "      <td>Infield shift</td>\n",
       "      <td>Strategic</td>\n",
       "      <td>0.28</td>\n",
       "    </tr>\n",
       "    <tr>\n",
       "      <th>26</th>\n",
       "      <td>SL</td>\n",
       "      <td>2019-09-26</td>\n",
       "      <td>87.4</td>\n",
       "      <td>1.2131</td>\n",
       "      <td>6.2854</td>\n",
       "      <td>Clayton Kershaw</td>\n",
       "      <td>647304</td>\n",
       "      <td>477132</td>\n",
       "      <td>pitch</td>\n",
       "      <td>foul</td>\n",
       "      <td>...</td>\n",
       "      <td>1</td>\n",
       "      <td>0</td>\n",
       "      <td>1</td>\n",
       "      <td>1</td>\n",
       "      <td>0</td>\n",
       "      <td>0</td>\n",
       "      <td>1</td>\n",
       "      <td>Infield shift</td>\n",
       "      <td>Strategic</td>\n",
       "      <td>0.28</td>\n",
       "    </tr>\n",
       "    <tr>\n",
       "      <th>27</th>\n",
       "      <td>FF</td>\n",
       "      <td>2019-09-26</td>\n",
       "      <td>91.0</td>\n",
       "      <td>1.0914</td>\n",
       "      <td>6.2752</td>\n",
       "      <td>Clayton Kershaw</td>\n",
       "      <td>647304</td>\n",
       "      <td>477132</td>\n",
       "      <td>pitch</td>\n",
       "      <td>called_strike</td>\n",
       "      <td>...</td>\n",
       "      <td>1</td>\n",
       "      <td>0</td>\n",
       "      <td>1</td>\n",
       "      <td>1</td>\n",
       "      <td>0</td>\n",
       "      <td>0</td>\n",
       "      <td>1</td>\n",
       "      <td>Infield shift</td>\n",
       "      <td>Strategic</td>\n",
       "      <td>0.37</td>\n",
       "    </tr>\n",
       "    <tr>\n",
       "      <th>28</th>\n",
       "      <td>SL</td>\n",
       "      <td>2019-09-26</td>\n",
       "      <td>86.9</td>\n",
       "      <td>1.0817</td>\n",
       "      <td>6.3342</td>\n",
       "      <td>Clayton Kershaw</td>\n",
       "      <td>622534</td>\n",
       "      <td>477132</td>\n",
       "      <td>field_out</td>\n",
       "      <td>hit_into_play</td>\n",
       "      <td>...</td>\n",
       "      <td>1</td>\n",
       "      <td>0</td>\n",
       "      <td>1</td>\n",
       "      <td>1</td>\n",
       "      <td>0</td>\n",
       "      <td>0</td>\n",
       "      <td>1</td>\n",
       "      <td>Infield shift</td>\n",
       "      <td>Standard</td>\n",
       "      <td>0.00</td>\n",
       "    </tr>\n",
       "    <tr>\n",
       "      <th>29</th>\n",
       "      <td>FF</td>\n",
       "      <td>2019-09-26</td>\n",
       "      <td>90.0</td>\n",
       "      <td>1.1473</td>\n",
       "      <td>6.2331</td>\n",
       "      <td>Clayton Kershaw</td>\n",
       "      <td>622534</td>\n",
       "      <td>477132</td>\n",
       "      <td>pitch</td>\n",
       "      <td>called_strike</td>\n",
       "      <td>...</td>\n",
       "      <td>1</td>\n",
       "      <td>0</td>\n",
       "      <td>1</td>\n",
       "      <td>1</td>\n",
       "      <td>0</td>\n",
       "      <td>0</td>\n",
       "      <td>1</td>\n",
       "      <td>Infield shift</td>\n",
       "      <td>Standard</td>\n",
       "      <td>0.28</td>\n",
       "    </tr>\n",
       "    <tr>\n",
       "      <th>30</th>\n",
       "      <td>SL</td>\n",
       "      <td>2019-09-26</td>\n",
       "      <td>87.6</td>\n",
       "      <td>1.1525</td>\n",
       "      <td>6.3824</td>\n",
       "      <td>Clayton Kershaw</td>\n",
       "      <td>622534</td>\n",
       "      <td>477132</td>\n",
       "      <td>pitch</td>\n",
       "      <td>called_strike</td>\n",
       "      <td>...</td>\n",
       "      <td>1</td>\n",
       "      <td>0</td>\n",
       "      <td>1</td>\n",
       "      <td>1</td>\n",
       "      <td>0</td>\n",
       "      <td>0</td>\n",
       "      <td>1</td>\n",
       "      <td>Infield shift</td>\n",
       "      <td>Standard</td>\n",
       "      <td>0.37</td>\n",
       "    </tr>\n",
       "    <tr>\n",
       "      <th>31</th>\n",
       "      <td>SL</td>\n",
       "      <td>2019-09-26</td>\n",
       "      <td>86.2</td>\n",
       "      <td>1.4145</td>\n",
       "      <td>6.3605</td>\n",
       "      <td>Clayton Kershaw</td>\n",
       "      <td>620443</td>\n",
       "      <td>477132</td>\n",
       "      <td>single</td>\n",
       "      <td>hit_into_play_no_out</td>\n",
       "      <td>...</td>\n",
       "      <td>1</td>\n",
       "      <td>0</td>\n",
       "      <td>1</td>\n",
       "      <td>1</td>\n",
       "      <td>0</td>\n",
       "      <td>0</td>\n",
       "      <td>1</td>\n",
       "      <td>Infield shift</td>\n",
       "      <td>Standard</td>\n",
       "      <td>1.00</td>\n",
       "    </tr>\n",
       "    <tr>\n",
       "      <th>32</th>\n",
       "      <td>FF</td>\n",
       "      <td>2019-09-26</td>\n",
       "      <td>90.4</td>\n",
       "      <td>1.3847</td>\n",
       "      <td>6.2721</td>\n",
       "      <td>Clayton Kershaw</td>\n",
       "      <td>620443</td>\n",
       "      <td>477132</td>\n",
       "      <td>pitch</td>\n",
       "      <td>foul</td>\n",
       "      <td>...</td>\n",
       "      <td>1</td>\n",
       "      <td>0</td>\n",
       "      <td>1</td>\n",
       "      <td>1</td>\n",
       "      <td>0</td>\n",
       "      <td>0</td>\n",
       "      <td>1</td>\n",
       "      <td>Infield shift</td>\n",
       "      <td>Standard</td>\n",
       "      <td>0.37</td>\n",
       "    </tr>\n",
       "    <tr>\n",
       "      <th>33</th>\n",
       "      <td>FF</td>\n",
       "      <td>2019-09-26</td>\n",
       "      <td>91.8</td>\n",
       "      <td>1.3886</td>\n",
       "      <td>6.1940</td>\n",
       "      <td>Clayton Kershaw</td>\n",
       "      <td>595978</td>\n",
       "      <td>477132</td>\n",
       "      <td>strikeout</td>\n",
       "      <td>called_strike</td>\n",
       "      <td>...</td>\n",
       "      <td>0</td>\n",
       "      <td>0</td>\n",
       "      <td>0</td>\n",
       "      <td>0</td>\n",
       "      <td>0</td>\n",
       "      <td>0</td>\n",
       "      <td>0</td>\n",
       "      <td>Infield shift</td>\n",
       "      <td>Standard</td>\n",
       "      <td>0.00</td>\n",
       "    </tr>\n",
       "    <tr>\n",
       "      <th>34</th>\n",
       "      <td>SL</td>\n",
       "      <td>2019-09-26</td>\n",
       "      <td>86.4</td>\n",
       "      <td>1.4041</td>\n",
       "      <td>6.2633</td>\n",
       "      <td>Clayton Kershaw</td>\n",
       "      <td>595978</td>\n",
       "      <td>477132</td>\n",
       "      <td>pitch</td>\n",
       "      <td>foul</td>\n",
       "      <td>...</td>\n",
       "      <td>0</td>\n",
       "      <td>0</td>\n",
       "      <td>0</td>\n",
       "      <td>0</td>\n",
       "      <td>0</td>\n",
       "      <td>0</td>\n",
       "      <td>0</td>\n",
       "      <td>Infield shift</td>\n",
       "      <td>Standard</td>\n",
       "      <td>0.54</td>\n",
       "    </tr>\n",
       "    <tr>\n",
       "      <th>35</th>\n",
       "      <td>SL</td>\n",
       "      <td>2019-09-26</td>\n",
       "      <td>86.5</td>\n",
       "      <td>1.3404</td>\n",
       "      <td>6.2526</td>\n",
       "      <td>Clayton Kershaw</td>\n",
       "      <td>595978</td>\n",
       "      <td>477132</td>\n",
       "      <td>pitch</td>\n",
       "      <td>foul</td>\n",
       "      <td>...</td>\n",
       "      <td>0</td>\n",
       "      <td>0</td>\n",
       "      <td>0</td>\n",
       "      <td>0</td>\n",
       "      <td>0</td>\n",
       "      <td>0</td>\n",
       "      <td>0</td>\n",
       "      <td>Infield shift</td>\n",
       "      <td>Standard</td>\n",
       "      <td>0.54</td>\n",
       "    </tr>\n",
       "    <tr>\n",
       "      <th>36</th>\n",
       "      <td>SL</td>\n",
       "      <td>2019-09-26</td>\n",
       "      <td>88.1</td>\n",
       "      <td>1.3596</td>\n",
       "      <td>6.2316</td>\n",
       "      <td>Clayton Kershaw</td>\n",
       "      <td>595978</td>\n",
       "      <td>477132</td>\n",
       "      <td>pitch</td>\n",
       "      <td>swinging_strike</td>\n",
       "      <td>...</td>\n",
       "      <td>0</td>\n",
       "      <td>0</td>\n",
       "      <td>0</td>\n",
       "      <td>0</td>\n",
       "      <td>0</td>\n",
       "      <td>0</td>\n",
       "      <td>0</td>\n",
       "      <td>Infield shift</td>\n",
       "      <td>Strategic</td>\n",
       "      <td>0.54</td>\n",
       "    </tr>\n",
       "    <tr>\n",
       "      <th>37</th>\n",
       "      <td>FF</td>\n",
       "      <td>2019-09-26</td>\n",
       "      <td>90.7</td>\n",
       "      <td>1.3491</td>\n",
       "      <td>6.2458</td>\n",
       "      <td>Clayton Kershaw</td>\n",
       "      <td>595978</td>\n",
       "      <td>477132</td>\n",
       "      <td>pitch</td>\n",
       "      <td>ball</td>\n",
       "      <td>...</td>\n",
       "      <td>0</td>\n",
       "      <td>0</td>\n",
       "      <td>0</td>\n",
       "      <td>0</td>\n",
       "      <td>0</td>\n",
       "      <td>0</td>\n",
       "      <td>0</td>\n",
       "      <td>Infield shift</td>\n",
       "      <td>Strategic</td>\n",
       "      <td>0.69</td>\n",
       "    </tr>\n",
       "    <tr>\n",
       "      <th>38</th>\n",
       "      <td>FF</td>\n",
       "      <td>2019-09-26</td>\n",
       "      <td>90.3</td>\n",
       "      <td>1.2856</td>\n",
       "      <td>6.1865</td>\n",
       "      <td>Clayton Kershaw</td>\n",
       "      <td>595978</td>\n",
       "      <td>477132</td>\n",
       "      <td>pitch</td>\n",
       "      <td>ball</td>\n",
       "      <td>...</td>\n",
       "      <td>0</td>\n",
       "      <td>0</td>\n",
       "      <td>0</td>\n",
       "      <td>0</td>\n",
       "      <td>0</td>\n",
       "      <td>0</td>\n",
       "      <td>0</td>\n",
       "      <td>Infield shift</td>\n",
       "      <td>Strategic</td>\n",
       "      <td>0.51</td>\n",
       "    </tr>\n",
       "    <tr>\n",
       "      <th>39</th>\n",
       "      <td>CU</td>\n",
       "      <td>2019-09-26</td>\n",
       "      <td>72.9</td>\n",
       "      <td>0.8937</td>\n",
       "      <td>6.4400</td>\n",
       "      <td>Clayton Kershaw</td>\n",
       "      <td>595978</td>\n",
       "      <td>477132</td>\n",
       "      <td>pitch</td>\n",
       "      <td>ball</td>\n",
       "      <td>...</td>\n",
       "      <td>0</td>\n",
       "      <td>0</td>\n",
       "      <td>0</td>\n",
       "      <td>0</td>\n",
       "      <td>0</td>\n",
       "      <td>0</td>\n",
       "      <td>0</td>\n",
       "      <td>Infield shift</td>\n",
       "      <td>Strategic</td>\n",
       "      <td>0.42</td>\n",
       "    </tr>\n",
       "    <tr>\n",
       "      <th>40</th>\n",
       "      <td>SL</td>\n",
       "      <td>2019-09-26</td>\n",
       "      <td>87.3</td>\n",
       "      <td>1.2945</td>\n",
       "      <td>6.2737</td>\n",
       "      <td>Clayton Kershaw</td>\n",
       "      <td>595978</td>\n",
       "      <td>477132</td>\n",
       "      <td>pitch</td>\n",
       "      <td>foul</td>\n",
       "      <td>...</td>\n",
       "      <td>0</td>\n",
       "      <td>0</td>\n",
       "      <td>0</td>\n",
       "      <td>0</td>\n",
       "      <td>0</td>\n",
       "      <td>0</td>\n",
       "      <td>0</td>\n",
       "      <td>Infield shift</td>\n",
       "      <td>Strategic</td>\n",
       "      <td>0.37</td>\n",
       "    </tr>\n",
       "    <tr>\n",
       "      <th>41</th>\n",
       "      <td>SL</td>\n",
       "      <td>2019-09-26</td>\n",
       "      <td>86.6</td>\n",
       "      <td>1.2726</td>\n",
       "      <td>6.3343</td>\n",
       "      <td>Clayton Kershaw</td>\n",
       "      <td>649966</td>\n",
       "      <td>477132</td>\n",
       "      <td>field_out</td>\n",
       "      <td>hit_into_play</td>\n",
       "      <td>...</td>\n",
       "      <td>0</td>\n",
       "      <td>0</td>\n",
       "      <td>0</td>\n",
       "      <td>0</td>\n",
       "      <td>0</td>\n",
       "      <td>0</td>\n",
       "      <td>0</td>\n",
       "      <td>Infield shift</td>\n",
       "      <td>Standard</td>\n",
       "      <td>0.00</td>\n",
       "    </tr>\n",
       "    <tr>\n",
       "      <th>42</th>\n",
       "      <td>CU</td>\n",
       "      <td>2019-09-26</td>\n",
       "      <td>74.4</td>\n",
       "      <td>0.8716</td>\n",
       "      <td>6.3804</td>\n",
       "      <td>Clayton Kershaw</td>\n",
       "      <td>649966</td>\n",
       "      <td>477132</td>\n",
       "      <td>pitch</td>\n",
       "      <td>foul</td>\n",
       "      <td>...</td>\n",
       "      <td>0</td>\n",
       "      <td>0</td>\n",
       "      <td>0</td>\n",
       "      <td>0</td>\n",
       "      <td>0</td>\n",
       "      <td>0</td>\n",
       "      <td>0</td>\n",
       "      <td>Infield shift</td>\n",
       "      <td>Standard</td>\n",
       "      <td>0.38</td>\n",
       "    </tr>\n",
       "    <tr>\n",
       "      <th>44</th>\n",
       "      <td>FF</td>\n",
       "      <td>2019-09-26</td>\n",
       "      <td>91.3</td>\n",
       "      <td>1.3999</td>\n",
       "      <td>6.2326</td>\n",
       "      <td>Clayton Kershaw</td>\n",
       "      <td>649966</td>\n",
       "      <td>477132</td>\n",
       "      <td>pitch</td>\n",
       "      <td>foul</td>\n",
       "      <td>...</td>\n",
       "      <td>0</td>\n",
       "      <td>0</td>\n",
       "      <td>0</td>\n",
       "      <td>0</td>\n",
       "      <td>0</td>\n",
       "      <td>0</td>\n",
       "      <td>0</td>\n",
       "      <td>Infield shift</td>\n",
       "      <td>Standard</td>\n",
       "      <td>0.38</td>\n",
       "    </tr>\n",
       "    <tr>\n",
       "      <th>45</th>\n",
       "      <td>SL</td>\n",
       "      <td>2019-09-26</td>\n",
       "      <td>87.1</td>\n",
       "      <td>1.3514</td>\n",
       "      <td>6.2718</td>\n",
       "      <td>Clayton Kershaw</td>\n",
       "      <td>649966</td>\n",
       "      <td>477132</td>\n",
       "      <td>pitch</td>\n",
       "      <td>foul</td>\n",
       "      <td>...</td>\n",
       "      <td>0</td>\n",
       "      <td>0</td>\n",
       "      <td>0</td>\n",
       "      <td>0</td>\n",
       "      <td>0</td>\n",
       "      <td>0</td>\n",
       "      <td>0</td>\n",
       "      <td>Infield shift</td>\n",
       "      <td>Standard</td>\n",
       "      <td>0.38</td>\n",
       "    </tr>\n",
       "    <tr>\n",
       "      <th>46</th>\n",
       "      <td>FF</td>\n",
       "      <td>2019-09-26</td>\n",
       "      <td>90.8</td>\n",
       "      <td>1.2315</td>\n",
       "      <td>6.2759</td>\n",
       "      <td>Clayton Kershaw</td>\n",
       "      <td>649966</td>\n",
       "      <td>477132</td>\n",
       "      <td>pitch</td>\n",
       "      <td>foul</td>\n",
       "      <td>...</td>\n",
       "      <td>0</td>\n",
       "      <td>0</td>\n",
       "      <td>0</td>\n",
       "      <td>0</td>\n",
       "      <td>0</td>\n",
       "      <td>0</td>\n",
       "      <td>0</td>\n",
       "      <td>Infield shift</td>\n",
       "      <td>Standard</td>\n",
       "      <td>0.38</td>\n",
       "    </tr>\n",
       "    <tr>\n",
       "      <th>47</th>\n",
       "      <td>CU</td>\n",
       "      <td>2019-09-26</td>\n",
       "      <td>73.5</td>\n",
       "      <td>1.0132</td>\n",
       "      <td>6.3769</td>\n",
       "      <td>Clayton Kershaw</td>\n",
       "      <td>649966</td>\n",
       "      <td>477132</td>\n",
       "      <td>pitch</td>\n",
       "      <td>foul</td>\n",
       "      <td>...</td>\n",
       "      <td>0</td>\n",
       "      <td>0</td>\n",
       "      <td>0</td>\n",
       "      <td>0</td>\n",
       "      <td>0</td>\n",
       "      <td>0</td>\n",
       "      <td>0</td>\n",
       "      <td>Infield shift</td>\n",
       "      <td>Standard</td>\n",
       "      <td>0.38</td>\n",
       "    </tr>\n",
       "    <tr>\n",
       "      <th>48</th>\n",
       "      <td>SL</td>\n",
       "      <td>2019-09-26</td>\n",
       "      <td>88.3</td>\n",
       "      <td>1.2748</td>\n",
       "      <td>6.3017</td>\n",
       "      <td>Clayton Kershaw</td>\n",
       "      <td>649966</td>\n",
       "      <td>477132</td>\n",
       "      <td>pitch</td>\n",
       "      <td>foul</td>\n",
       "      <td>...</td>\n",
       "      <td>0</td>\n",
       "      <td>0</td>\n",
       "      <td>0</td>\n",
       "      <td>0</td>\n",
       "      <td>0</td>\n",
       "      <td>0</td>\n",
       "      <td>0</td>\n",
       "      <td>Infield shift</td>\n",
       "      <td>Standard</td>\n",
       "      <td>0.38</td>\n",
       "    </tr>\n",
       "    <tr>\n",
       "      <th>49</th>\n",
       "      <td>FF</td>\n",
       "      <td>2019-09-26</td>\n",
       "      <td>91.6</td>\n",
       "      <td>1.2463</td>\n",
       "      <td>6.2112</td>\n",
       "      <td>Clayton Kershaw</td>\n",
       "      <td>649966</td>\n",
       "      <td>477132</td>\n",
       "      <td>pitch</td>\n",
       "      <td>ball</td>\n",
       "      <td>...</td>\n",
       "      <td>0</td>\n",
       "      <td>0</td>\n",
       "      <td>0</td>\n",
       "      <td>0</td>\n",
       "      <td>0</td>\n",
       "      <td>0</td>\n",
       "      <td>0</td>\n",
       "      <td>Infield shift</td>\n",
       "      <td>Standard</td>\n",
       "      <td>0.39</td>\n",
       "    </tr>\n",
       "    <tr>\n",
       "      <th>50</th>\n",
       "      <td>SL</td>\n",
       "      <td>2019-09-26</td>\n",
       "      <td>87.4</td>\n",
       "      <td>1.4063</td>\n",
       "      <td>6.2290</td>\n",
       "      <td>Clayton Kershaw</td>\n",
       "      <td>649966</td>\n",
       "      <td>477132</td>\n",
       "      <td>pitch</td>\n",
       "      <td>ball</td>\n",
       "      <td>...</td>\n",
       "      <td>0</td>\n",
       "      <td>0</td>\n",
       "      <td>0</td>\n",
       "      <td>0</td>\n",
       "      <td>0</td>\n",
       "      <td>0</td>\n",
       "      <td>0</td>\n",
       "      <td>Infield shift</td>\n",
       "      <td>Standard</td>\n",
       "      <td>0.32</td>\n",
       "    </tr>\n",
       "    <tr>\n",
       "      <th>51</th>\n",
       "      <td>FF</td>\n",
       "      <td>2019-09-26</td>\n",
       "      <td>91.7</td>\n",
       "      <td>1.2789</td>\n",
       "      <td>6.2444</td>\n",
       "      <td>Clayton Kershaw</td>\n",
       "      <td>649966</td>\n",
       "      <td>477132</td>\n",
       "      <td>pitch</td>\n",
       "      <td>foul</td>\n",
       "      <td>...</td>\n",
       "      <td>0</td>\n",
       "      <td>0</td>\n",
       "      <td>0</td>\n",
       "      <td>0</td>\n",
       "      <td>0</td>\n",
       "      <td>0</td>\n",
       "      <td>0</td>\n",
       "      <td>Infield shift</td>\n",
       "      <td>Standard</td>\n",
       "      <td>0.28</td>\n",
       "    </tr>\n",
       "    <tr>\n",
       "      <th>52</th>\n",
       "      <td>FF</td>\n",
       "      <td>2019-09-26</td>\n",
       "      <td>91.5</td>\n",
       "      <td>1.2712</td>\n",
       "      <td>6.2814</td>\n",
       "      <td>Clayton Kershaw</td>\n",
       "      <td>649966</td>\n",
       "      <td>477132</td>\n",
       "      <td>pitch</td>\n",
       "      <td>swinging_strike</td>\n",
       "      <td>...</td>\n",
       "      <td>0</td>\n",
       "      <td>0</td>\n",
       "      <td>0</td>\n",
       "      <td>0</td>\n",
       "      <td>0</td>\n",
       "      <td>0</td>\n",
       "      <td>0</td>\n",
       "      <td>Infield shift</td>\n",
       "      <td>Standard</td>\n",
       "      <td>0.37</td>\n",
       "    </tr>\n",
       "    <tr>\n",
       "      <th>53</th>\n",
       "      <td>FF</td>\n",
       "      <td>2019-09-26</td>\n",
       "      <td>91.3</td>\n",
       "      <td>1.3156</td>\n",
       "      <td>6.2612</td>\n",
       "      <td>Clayton Kershaw</td>\n",
       "      <td>664034</td>\n",
       "      <td>477132</td>\n",
       "      <td>strikeout</td>\n",
       "      <td>swinging_strike</td>\n",
       "      <td>...</td>\n",
       "      <td>0</td>\n",
       "      <td>0</td>\n",
       "      <td>0</td>\n",
       "      <td>0</td>\n",
       "      <td>0</td>\n",
       "      <td>0</td>\n",
       "      <td>0</td>\n",
       "      <td>Infield shift</td>\n",
       "      <td>Standard</td>\n",
       "      <td>0.00</td>\n",
       "    </tr>\n",
       "    <tr>\n",
       "      <th>54</th>\n",
       "      <td>SL</td>\n",
       "      <td>2019-09-26</td>\n",
       "      <td>87.3</td>\n",
       "      <td>1.5191</td>\n",
       "      <td>6.2901</td>\n",
       "      <td>Clayton Kershaw</td>\n",
       "      <td>664034</td>\n",
       "      <td>477132</td>\n",
       "      <td>pitch</td>\n",
       "      <td>foul</td>\n",
       "      <td>...</td>\n",
       "      <td>0</td>\n",
       "      <td>0</td>\n",
       "      <td>0</td>\n",
       "      <td>0</td>\n",
       "      <td>0</td>\n",
       "      <td>0</td>\n",
       "      <td>0</td>\n",
       "      <td>Infield shift</td>\n",
       "      <td>Standard</td>\n",
       "      <td>0.54</td>\n",
       "    </tr>\n",
       "    <tr>\n",
       "      <th>55</th>\n",
       "      <td>SL</td>\n",
       "      <td>2019-09-26</td>\n",
       "      <td>87.7</td>\n",
       "      <td>1.3679</td>\n",
       "      <td>6.2893</td>\n",
       "      <td>Clayton Kershaw</td>\n",
       "      <td>664034</td>\n",
       "      <td>477132</td>\n",
       "      <td>pitch</td>\n",
       "      <td>ball</td>\n",
       "      <td>...</td>\n",
       "      <td>0</td>\n",
       "      <td>0</td>\n",
       "      <td>0</td>\n",
       "      <td>0</td>\n",
       "      <td>0</td>\n",
       "      <td>0</td>\n",
       "      <td>0</td>\n",
       "      <td>Infield shift</td>\n",
       "      <td>Standard</td>\n",
       "      <td>0.55</td>\n",
       "    </tr>\n",
       "    <tr>\n",
       "      <th>56</th>\n",
       "      <td>CU</td>\n",
       "      <td>2019-09-26</td>\n",
       "      <td>73.6</td>\n",
       "      <td>0.9890</td>\n",
       "      <td>6.4224</td>\n",
       "      <td>Clayton Kershaw</td>\n",
       "      <td>664034</td>\n",
       "      <td>477132</td>\n",
       "      <td>pitch</td>\n",
       "      <td>ball</td>\n",
       "      <td>...</td>\n",
       "      <td>0</td>\n",
       "      <td>0</td>\n",
       "      <td>0</td>\n",
       "      <td>0</td>\n",
       "      <td>0</td>\n",
       "      <td>0</td>\n",
       "      <td>0</td>\n",
       "      <td>Infield shift</td>\n",
       "      <td>Standard</td>\n",
       "      <td>0.39</td>\n",
       "    </tr>\n",
       "    <tr>\n",
       "      <th>57</th>\n",
       "      <td>FF</td>\n",
       "      <td>2019-09-26</td>\n",
       "      <td>91.5</td>\n",
       "      <td>1.3203</td>\n",
       "      <td>6.3597</td>\n",
       "      <td>Clayton Kershaw</td>\n",
       "      <td>664034</td>\n",
       "      <td>477132</td>\n",
       "      <td>pitch</td>\n",
       "      <td>ball</td>\n",
       "      <td>...</td>\n",
       "      <td>0</td>\n",
       "      <td>0</td>\n",
       "      <td>0</td>\n",
       "      <td>0</td>\n",
       "      <td>0</td>\n",
       "      <td>0</td>\n",
       "      <td>0</td>\n",
       "      <td>Infield shift</td>\n",
       "      <td>Standard</td>\n",
       "      <td>0.32</td>\n",
       "    </tr>\n",
       "    <tr>\n",
       "      <th>58</th>\n",
       "      <td>FF</td>\n",
       "      <td>2019-09-26</td>\n",
       "      <td>91.4</td>\n",
       "      <td>1.3225</td>\n",
       "      <td>6.2898</td>\n",
       "      <td>Clayton Kershaw</td>\n",
       "      <td>664034</td>\n",
       "      <td>477132</td>\n",
       "      <td>pitch</td>\n",
       "      <td>swinging_strike</td>\n",
       "      <td>...</td>\n",
       "      <td>0</td>\n",
       "      <td>0</td>\n",
       "      <td>0</td>\n",
       "      <td>0</td>\n",
       "      <td>0</td>\n",
       "      <td>0</td>\n",
       "      <td>0</td>\n",
       "      <td>Infield shift</td>\n",
       "      <td>Standard</td>\n",
       "      <td>0.28</td>\n",
       "    </tr>\n",
       "    <tr>\n",
       "      <th>59</th>\n",
       "      <td>FF</td>\n",
       "      <td>2019-09-26</td>\n",
       "      <td>90.7</td>\n",
       "      <td>1.4148</td>\n",
       "      <td>6.2726</td>\n",
       "      <td>Clayton Kershaw</td>\n",
       "      <td>664034</td>\n",
       "      <td>477132</td>\n",
       "      <td>pitch</td>\n",
       "      <td>foul</td>\n",
       "      <td>...</td>\n",
       "      <td>0</td>\n",
       "      <td>0</td>\n",
       "      <td>0</td>\n",
       "      <td>0</td>\n",
       "      <td>0</td>\n",
       "      <td>0</td>\n",
       "      <td>0</td>\n",
       "      <td>Infield shift</td>\n",
       "      <td>Standard</td>\n",
       "      <td>0.37</td>\n",
       "    </tr>\n",
       "    <tr>\n",
       "      <th>60</th>\n",
       "      <td>SL</td>\n",
       "      <td>2019-09-26</td>\n",
       "      <td>87.3</td>\n",
       "      <td>1.3190</td>\n",
       "      <td>6.3366</td>\n",
       "      <td>Clayton Kershaw</td>\n",
       "      <td>623180</td>\n",
       "      <td>477132</td>\n",
       "      <td>field_out</td>\n",
       "      <td>hit_into_play</td>\n",
       "      <td>...</td>\n",
       "      <td>0</td>\n",
       "      <td>0</td>\n",
       "      <td>0</td>\n",
       "      <td>0</td>\n",
       "      <td>0</td>\n",
       "      <td>0</td>\n",
       "      <td>0</td>\n",
       "      <td>Infield shift</td>\n",
       "      <td>Standard</td>\n",
       "      <td>0.00</td>\n",
       "    </tr>\n",
       "  </tbody>\n",
       "</table>\n",
       "<p>60 rows × 83 columns</p>\n",
       "</div>"
      ],
      "text/plain": [
       "   pitch_type   game_date  release_speed  release_pos_x  release_pos_z  \\\n",
       "0          FF  2019-09-29           90.5         1.3508         6.1911   \n",
       "1          FF  2019-09-29           91.1         1.3839         6.1994   \n",
       "2          FF  2019-09-29           89.7         1.4225         6.2320   \n",
       "3          FF  2019-09-29           90.3         1.3502         6.2253   \n",
       "4          FF  2019-09-29           90.1         1.4813         6.3368   \n",
       "5          FF  2019-09-29           90.7         1.2976         6.3329   \n",
       "6          FF  2019-09-29           90.8         1.3868         6.2242   \n",
       "7          SL  2019-09-29           86.9         1.3294         6.3412   \n",
       "8          SL  2019-09-29           86.5         1.3640         6.3510   \n",
       "9          SL  2019-09-29           85.7         1.3870         6.4169   \n",
       "10         CU  2019-09-29           74.3         1.1022         6.3610   \n",
       "11         CU  2019-09-29           72.7         1.1708         6.4309   \n",
       "12         FF  2019-09-29           90.0         1.4682         6.2935   \n",
       "13         FF  2019-09-29           90.2         1.5345         6.2454   \n",
       "14         SL  2019-09-29           87.0         1.6001         6.3708   \n",
       "15         SL  2019-09-29           87.2         1.5410         6.3023   \n",
       "16         FF  2019-09-29           90.7         1.5234         6.2684   \n",
       "17         FF  2019-09-29           91.5         1.4780         6.3117   \n",
       "18         SL  2019-09-26           87.2         1.0030         6.3049   \n",
       "19         CU  2019-09-26           74.4         0.8531         6.2655   \n",
       "20         FF  2019-09-26           91.1         1.2504         6.2842   \n",
       "21         SL  2019-09-26           86.6         1.2205         6.3420   \n",
       "22         FF  2019-09-26           91.1         1.0538         6.2742   \n",
       "23         SL  2019-09-26           88.0         1.2164         6.2719   \n",
       "24         CU  2019-09-26           75.5         0.7327         6.3313   \n",
       "25         FF  2019-09-26           90.6         1.2231         6.3140   \n",
       "26         SL  2019-09-26           87.4         1.2131         6.2854   \n",
       "27         FF  2019-09-26           91.0         1.0914         6.2752   \n",
       "28         SL  2019-09-26           86.9         1.0817         6.3342   \n",
       "29         FF  2019-09-26           90.0         1.1473         6.2331   \n",
       "30         SL  2019-09-26           87.6         1.1525         6.3824   \n",
       "31         SL  2019-09-26           86.2         1.4145         6.3605   \n",
       "32         FF  2019-09-26           90.4         1.3847         6.2721   \n",
       "33         FF  2019-09-26           91.8         1.3886         6.1940   \n",
       "34         SL  2019-09-26           86.4         1.4041         6.2633   \n",
       "35         SL  2019-09-26           86.5         1.3404         6.2526   \n",
       "36         SL  2019-09-26           88.1         1.3596         6.2316   \n",
       "37         FF  2019-09-26           90.7         1.3491         6.2458   \n",
       "38         FF  2019-09-26           90.3         1.2856         6.1865   \n",
       "39         CU  2019-09-26           72.9         0.8937         6.4400   \n",
       "40         SL  2019-09-26           87.3         1.2945         6.2737   \n",
       "41         SL  2019-09-26           86.6         1.2726         6.3343   \n",
       "42         CU  2019-09-26           74.4         0.8716         6.3804   \n",
       "44         FF  2019-09-26           91.3         1.3999         6.2326   \n",
       "45         SL  2019-09-26           87.1         1.3514         6.2718   \n",
       "46         FF  2019-09-26           90.8         1.2315         6.2759   \n",
       "47         CU  2019-09-26           73.5         1.0132         6.3769   \n",
       "48         SL  2019-09-26           88.3         1.2748         6.3017   \n",
       "49         FF  2019-09-26           91.6         1.2463         6.2112   \n",
       "50         SL  2019-09-26           87.4         1.4063         6.2290   \n",
       "51         FF  2019-09-26           91.7         1.2789         6.2444   \n",
       "52         FF  2019-09-26           91.5         1.2712         6.2814   \n",
       "53         FF  2019-09-26           91.3         1.3156         6.2612   \n",
       "54         SL  2019-09-26           87.3         1.5191         6.2901   \n",
       "55         SL  2019-09-26           87.7         1.3679         6.2893   \n",
       "56         CU  2019-09-26           73.6         0.9890         6.4224   \n",
       "57         FF  2019-09-26           91.5         1.3203         6.3597   \n",
       "58         FF  2019-09-26           91.4         1.3225         6.2898   \n",
       "59         FF  2019-09-26           90.7         1.4148         6.2726   \n",
       "60         SL  2019-09-26           87.3         1.3190         6.3366   \n",
       "\n",
       "        player_name  batter  pitcher     events              description  \\\n",
       "0   Clayton Kershaw  518516   477132  field_out            hit_into_play   \n",
       "1   Clayton Kershaw  518516   477132      pitch                     foul   \n",
       "2   Clayton Kershaw  518516   477132      pitch                     ball   \n",
       "3   Clayton Kershaw  518516   477132      pitch            called_strike   \n",
       "4   Clayton Kershaw  518516   477132      pitch                     ball   \n",
       "5   Clayton Kershaw  518516   477132      pitch                     ball   \n",
       "6   Clayton Kershaw  518516   477132      pitch                     foul   \n",
       "7   Clayton Kershaw  664041   477132  strikeout  swinging_strike_blocked   \n",
       "8   Clayton Kershaw  664041   477132      pitch                     foul   \n",
       "9   Clayton Kershaw  664041   477132      pitch                     foul   \n",
       "10  Clayton Kershaw  664041   477132      pitch                     ball   \n",
       "11  Clayton Kershaw  664041   477132      pitch          swinging_strike   \n",
       "12  Clayton Kershaw  664041   477132      pitch                     foul   \n",
       "13  Clayton Kershaw  664041   477132      pitch                     ball   \n",
       "14  Clayton Kershaw  474832   477132  field_out            hit_into_play   \n",
       "15  Clayton Kershaw  474832   477132      pitch                     ball   \n",
       "16  Clayton Kershaw  474832   477132      pitch            called_strike   \n",
       "17  Clayton Kershaw  474832   477132      pitch          swinging_strike   \n",
       "18  Clayton Kershaw  592518   477132  strikeout          swinging_strike   \n",
       "19  Clayton Kershaw  592518   477132      pitch             blocked_ball   \n",
       "20  Clayton Kershaw  592518   477132      pitch                     foul   \n",
       "21  Clayton Kershaw  592518   477132      pitch             blocked_ball   \n",
       "22  Clayton Kershaw  592518   477132      pitch            called_strike   \n",
       "23  Clayton Kershaw  647304   477132  strikeout          swinging_strike   \n",
       "24  Clayton Kershaw  647304   477132      pitch                     ball   \n",
       "25  Clayton Kershaw  647304   477132      pitch                     foul   \n",
       "26  Clayton Kershaw  647304   477132      pitch                     foul   \n",
       "27  Clayton Kershaw  647304   477132      pitch            called_strike   \n",
       "28  Clayton Kershaw  622534   477132  field_out            hit_into_play   \n",
       "29  Clayton Kershaw  622534   477132      pitch            called_strike   \n",
       "30  Clayton Kershaw  622534   477132      pitch            called_strike   \n",
       "31  Clayton Kershaw  620443   477132     single     hit_into_play_no_out   \n",
       "32  Clayton Kershaw  620443   477132      pitch                     foul   \n",
       "33  Clayton Kershaw  595978   477132  strikeout            called_strike   \n",
       "34  Clayton Kershaw  595978   477132      pitch                     foul   \n",
       "35  Clayton Kershaw  595978   477132      pitch                     foul   \n",
       "36  Clayton Kershaw  595978   477132      pitch          swinging_strike   \n",
       "37  Clayton Kershaw  595978   477132      pitch                     ball   \n",
       "38  Clayton Kershaw  595978   477132      pitch                     ball   \n",
       "39  Clayton Kershaw  595978   477132      pitch                     ball   \n",
       "40  Clayton Kershaw  595978   477132      pitch                     foul   \n",
       "41  Clayton Kershaw  649966   477132  field_out            hit_into_play   \n",
       "42  Clayton Kershaw  649966   477132      pitch                     foul   \n",
       "44  Clayton Kershaw  649966   477132      pitch                     foul   \n",
       "45  Clayton Kershaw  649966   477132      pitch                     foul   \n",
       "46  Clayton Kershaw  649966   477132      pitch                     foul   \n",
       "47  Clayton Kershaw  649966   477132      pitch                     foul   \n",
       "48  Clayton Kershaw  649966   477132      pitch                     foul   \n",
       "49  Clayton Kershaw  649966   477132      pitch                     ball   \n",
       "50  Clayton Kershaw  649966   477132      pitch                     ball   \n",
       "51  Clayton Kershaw  649966   477132      pitch                     foul   \n",
       "52  Clayton Kershaw  649966   477132      pitch          swinging_strike   \n",
       "53  Clayton Kershaw  664034   477132  strikeout          swinging_strike   \n",
       "54  Clayton Kershaw  664034   477132      pitch                     foul   \n",
       "55  Clayton Kershaw  664034   477132      pitch                     ball   \n",
       "56  Clayton Kershaw  664034   477132      pitch                     ball   \n",
       "57  Clayton Kershaw  664034   477132      pitch                     ball   \n",
       "58  Clayton Kershaw  664034   477132      pitch          swinging_strike   \n",
       "59  Clayton Kershaw  664034   477132      pitch                     foul   \n",
       "60  Clayton Kershaw  623180   477132  field_out            hit_into_play   \n",
       "\n",
       "    ...  away_score bat_score fld_score post_away_score post_home_score  \\\n",
       "0   ...           5         0         5               5               0   \n",
       "1   ...           5         0         5               5               0   \n",
       "2   ...           5         0         5               5               0   \n",
       "3   ...           5         0         5               5               0   \n",
       "4   ...           5         0         5               5               0   \n",
       "5   ...           5         0         5               5               0   \n",
       "6   ...           5         0         5               5               0   \n",
       "7   ...           5         0         5               5               0   \n",
       "8   ...           5         0         5               5               0   \n",
       "9   ...           5         0         5               5               0   \n",
       "10  ...           5         0         5               5               0   \n",
       "11  ...           5         0         5               5               0   \n",
       "12  ...           5         0         5               5               0   \n",
       "13  ...           5         0         5               5               0   \n",
       "14  ...           5         0         5               5               0   \n",
       "15  ...           5         0         5               5               0   \n",
       "16  ...           5         0         5               5               0   \n",
       "17  ...           5         0         5               5               0   \n",
       "18  ...           1         0         1               1               0   \n",
       "19  ...           1         0         1               1               0   \n",
       "20  ...           1         0         1               1               0   \n",
       "21  ...           1         0         1               1               0   \n",
       "22  ...           1         0         1               1               0   \n",
       "23  ...           1         0         1               1               0   \n",
       "24  ...           1         0         1               1               0   \n",
       "25  ...           1         0         1               1               0   \n",
       "26  ...           1         0         1               1               0   \n",
       "27  ...           1         0         1               1               0   \n",
       "28  ...           1         0         1               1               0   \n",
       "29  ...           1         0         1               1               0   \n",
       "30  ...           1         0         1               1               0   \n",
       "31  ...           1         0         1               1               0   \n",
       "32  ...           1         0         1               1               0   \n",
       "33  ...           0         0         0               0               0   \n",
       "34  ...           0         0         0               0               0   \n",
       "35  ...           0         0         0               0               0   \n",
       "36  ...           0         0         0               0               0   \n",
       "37  ...           0         0         0               0               0   \n",
       "38  ...           0         0         0               0               0   \n",
       "39  ...           0         0         0               0               0   \n",
       "40  ...           0         0         0               0               0   \n",
       "41  ...           0         0         0               0               0   \n",
       "42  ...           0         0         0               0               0   \n",
       "44  ...           0         0         0               0               0   \n",
       "45  ...           0         0         0               0               0   \n",
       "46  ...           0         0         0               0               0   \n",
       "47  ...           0         0         0               0               0   \n",
       "48  ...           0         0         0               0               0   \n",
       "49  ...           0         0         0               0               0   \n",
       "50  ...           0         0         0               0               0   \n",
       "51  ...           0         0         0               0               0   \n",
       "52  ...           0         0         0               0               0   \n",
       "53  ...           0         0         0               0               0   \n",
       "54  ...           0         0         0               0               0   \n",
       "55  ...           0         0         0               0               0   \n",
       "56  ...           0         0         0               0               0   \n",
       "57  ...           0         0         0               0               0   \n",
       "58  ...           0         0         0               0               0   \n",
       "59  ...           0         0         0               0               0   \n",
       "60  ...           0         0         0               0               0   \n",
       "\n",
       "   post_bat_score post_fld_score if_fielding_alignment  of_fielding_alignment  \\\n",
       "0               0              5         Infield shift               Standard   \n",
       "1               0              5         Infield shift               Standard   \n",
       "2               0              5         Infield shift               Standard   \n",
       "3               0              5         Infield shift               Standard   \n",
       "4               0              5         Infield shift               Standard   \n",
       "5               0              5         Infield shift               Standard   \n",
       "6               0              5         Infield shift               Standard   \n",
       "7               0              5         Infield shift               Standard   \n",
       "8               0              5         Infield shift               Standard   \n",
       "9               0              5         Infield shift               Standard   \n",
       "10              0              5         Infield shift               Standard   \n",
       "11              0              5         Infield shift               Standard   \n",
       "12              0              5         Infield shift               Standard   \n",
       "13              0              5         Infield shift               Standard   \n",
       "14              0              5         Infield shift              Strategic   \n",
       "15              0              5         Infield shift              Strategic   \n",
       "16              0              5         Infield shift              Strategic   \n",
       "17              0              5         Infield shift              Strategic   \n",
       "18              0              1              Standard               Standard   \n",
       "19              0              1              Standard               Standard   \n",
       "20              0              1              Standard               Standard   \n",
       "21              0              1              Standard               Standard   \n",
       "22              0              1              Standard               Standard   \n",
       "23              0              1              Standard               Standard   \n",
       "24              0              1         Infield shift              Strategic   \n",
       "25              0              1         Infield shift              Strategic   \n",
       "26              0              1         Infield shift              Strategic   \n",
       "27              0              1         Infield shift              Strategic   \n",
       "28              0              1         Infield shift               Standard   \n",
       "29              0              1         Infield shift               Standard   \n",
       "30              0              1         Infield shift               Standard   \n",
       "31              0              1         Infield shift               Standard   \n",
       "32              0              1         Infield shift               Standard   \n",
       "33              0              0         Infield shift               Standard   \n",
       "34              0              0         Infield shift               Standard   \n",
       "35              0              0         Infield shift               Standard   \n",
       "36              0              0         Infield shift              Strategic   \n",
       "37              0              0         Infield shift              Strategic   \n",
       "38              0              0         Infield shift              Strategic   \n",
       "39              0              0         Infield shift              Strategic   \n",
       "40              0              0         Infield shift              Strategic   \n",
       "41              0              0         Infield shift               Standard   \n",
       "42              0              0         Infield shift               Standard   \n",
       "44              0              0         Infield shift               Standard   \n",
       "45              0              0         Infield shift               Standard   \n",
       "46              0              0         Infield shift               Standard   \n",
       "47              0              0         Infield shift               Standard   \n",
       "48              0              0         Infield shift               Standard   \n",
       "49              0              0         Infield shift               Standard   \n",
       "50              0              0         Infield shift               Standard   \n",
       "51              0              0         Infield shift               Standard   \n",
       "52              0              0         Infield shift               Standard   \n",
       "53              0              0         Infield shift               Standard   \n",
       "54              0              0         Infield shift               Standard   \n",
       "55              0              0         Infield shift               Standard   \n",
       "56              0              0         Infield shift               Standard   \n",
       "57              0              0         Infield shift               Standard   \n",
       "58              0              0         Infield shift               Standard   \n",
       "59              0              0         Infield shift               Standard   \n",
       "60              0              0         Infield shift               Standard   \n",
       "\n",
       "   bases  \n",
       "0   0.00  \n",
       "1   0.54  \n",
       "2   0.55  \n",
       "3   0.38  \n",
       "4   0.51  \n",
       "5   0.42  \n",
       "6   0.37  \n",
       "7   0.00  \n",
       "8   0.38  \n",
       "9   0.38  \n",
       "10  0.39  \n",
       "11  0.31  \n",
       "12  0.42  \n",
       "13  0.51  \n",
       "14  0.00  \n",
       "15  0.32  \n",
       "16  0.28  \n",
       "17  0.37  \n",
       "18  0.00  \n",
       "19  0.39  \n",
       "20  0.31  \n",
       "21  0.42  \n",
       "22  0.37  \n",
       "23  0.00  \n",
       "24  0.32  \n",
       "25  0.28  \n",
       "26  0.28  \n",
       "27  0.37  \n",
       "28  0.00  \n",
       "29  0.28  \n",
       "30  0.37  \n",
       "31  1.00  \n",
       "32  0.37  \n",
       "33  0.00  \n",
       "34  0.54  \n",
       "35  0.54  \n",
       "36  0.54  \n",
       "37  0.69  \n",
       "38  0.51  \n",
       "39  0.42  \n",
       "40  0.37  \n",
       "41  0.00  \n",
       "42  0.38  \n",
       "44  0.38  \n",
       "45  0.38  \n",
       "46  0.38  \n",
       "47  0.38  \n",
       "48  0.38  \n",
       "49  0.39  \n",
       "50  0.32  \n",
       "51  0.28  \n",
       "52  0.37  \n",
       "53  0.00  \n",
       "54  0.54  \n",
       "55  0.55  \n",
       "56  0.39  \n",
       "57  0.32  \n",
       "58  0.28  \n",
       "59  0.37  \n",
       "60  0.00  \n",
       "\n",
       "[60 rows x 83 columns]"
      ]
     },
     "execution_count": 12,
     "metadata": {},
     "output_type": "execute_result"
    }
   ],
   "source": [
    "pitch_data.head(60)"
   ]
  },
  {
   "cell_type": "code",
   "execution_count": 13,
   "metadata": {},
   "outputs": [
    {
     "name": "stdout",
     "output_type": "stream",
     "text": [
      "<class 'pandas.core.frame.DataFrame'>\n",
      "Int64Index: 15352 entries, 0 to 1209\n",
      "Data columns (total 83 columns):\n",
      "pitch_type                         15352 non-null category\n",
      "game_date                          15352 non-null object\n",
      "release_speed                      15352 non-null float64\n",
      "release_pos_x                      15352 non-null float64\n",
      "release_pos_z                      15352 non-null float64\n",
      "player_name                        15352 non-null object\n",
      "batter                             15352 non-null int64\n",
      "pitcher                            15352 non-null int64\n",
      "events                             15352 non-null category\n",
      "description                        15352 non-null category\n",
      "zone                               15352 non-null category\n",
      "des                                3948 non-null object\n",
      "game_type                          15352 non-null object\n",
      "stand                              15352 non-null category\n",
      "p_throws                           15352 non-null category\n",
      "home_team                          15352 non-null object\n",
      "away_team                          15352 non-null object\n",
      "type                               15352 non-null category\n",
      "hit_location                       3557 non-null float64\n",
      "bb_type                            2596 non-null object\n",
      "balls                              15352 non-null category\n",
      "strikes                            15352 non-null category\n",
      "game_year                          15352 non-null int64\n",
      "pfx_x                              15352 non-null float64\n",
      "pfx_z                              15352 non-null float64\n",
      "plate_x                            15352 non-null float64\n",
      "plate_z                            15352 non-null float64\n",
      "on_3b                              1100 non-null float64\n",
      "on_2b                              2250 non-null float64\n",
      "on_1b                              3742 non-null float64\n",
      "outs_when_up                       15352 non-null category\n",
      "inning                             15352 non-null int64\n",
      "inning_topbot                      15352 non-null object\n",
      "hc_x                               2587 non-null float64\n",
      "hc_y                               2587 non-null float64\n",
      "fielder_2                          15352 non-null float64\n",
      "sv_id                              15352 non-null object\n",
      "vx0                                15352 non-null float64\n",
      "vy0                                15352 non-null float64\n",
      "vz0                                15352 non-null float64\n",
      "ax                                 15352 non-null float64\n",
      "ay                                 15352 non-null float64\n",
      "az                                 15352 non-null float64\n",
      "sz_top                             15352 non-null float64\n",
      "sz_bot                             15352 non-null float64\n",
      "hit_distance_sc                    3959 non-null float64\n",
      "launch_speed                       4213 non-null float64\n",
      "launch_angle                       4213 non-null float64\n",
      "effective_speed                    15350 non-null float64\n",
      "release_spin_rate                  15352 non-null float64\n",
      "release_extension                  15352 non-null float64\n",
      "game_pk                            15352 non-null int64\n",
      "pitcher.1                          15352 non-null int64\n",
      "fielder_2.1                        15352 non-null float64\n",
      "fielder_3                          15352 non-null float64\n",
      "fielder_4                          15352 non-null float64\n",
      "fielder_5                          15352 non-null float64\n",
      "fielder_6                          15352 non-null float64\n",
      "fielder_7                          15352 non-null float64\n",
      "fielder_8                          15352 non-null float64\n",
      "fielder_9                          15352 non-null float64\n",
      "release_pos_y                      15352 non-null float64\n",
      "estimated_ba_using_speedangle      2596 non-null float64\n",
      "estimated_woba_using_speedangle    2596 non-null float64\n",
      "woba_value                         3948 non-null float64\n",
      "woba_denom                         3948 non-null float64\n",
      "babip_value                        3948 non-null float64\n",
      "iso_value                          3948 non-null float64\n",
      "launch_speed_angle                 2596 non-null float64\n",
      "at_bat_number                      15352 non-null int64\n",
      "pitch_number                       15352 non-null category\n",
      "pitch_name                         15352 non-null object\n",
      "home_score                         15352 non-null int64\n",
      "away_score                         15352 non-null int64\n",
      "bat_score                          15352 non-null int64\n",
      "fld_score                          15352 non-null int64\n",
      "post_away_score                    15352 non-null int64\n",
      "post_home_score                    15352 non-null int64\n",
      "post_bat_score                     15352 non-null int64\n",
      "post_fld_score                     15352 non-null int64\n",
      "if_fielding_alignment              15347 non-null object\n",
      "of_fielding_alignment              15347 non-null object\n",
      "bases                              15352 non-null float64\n",
      "dtypes: category(11), float64(45), int64(15), object(12)\n",
      "memory usage: 8.7+ MB\n"
     ]
    }
   ],
   "source": [
    "pitch_data.info()"
   ]
  },
  {
   "cell_type": "markdown",
   "metadata": {},
   "source": [
    "## Exploratory Data Analysis\n",
    "\n",
    "This section will focus on exploring the features in this data set and the relationship that they have to the number of bases yielded. The features that will be examined are as follows:\n",
    "        \n",
    "        pitch_type, release_speed, release_spin_rate, zone, p_throws and stand, pitch_number, balls and strikes, \n",
    "        release_point_x and release_point_z\n",
    "        \n",
    "The first plot shows the distribution of the pitch types using a bar plot."
   ]
  },
  {
   "cell_type": "code",
   "execution_count": 14,
   "metadata": {},
   "outputs": [
    {
     "data": {
      "text/plain": [
       "<matplotlib.axes._subplots.AxesSubplot at 0x2575c32fa58>"
      ]
     },
     "execution_count": 14,
     "metadata": {},
     "output_type": "execute_result"
    },
    {
     "data": {
      "image/png": "[encoded data removed]",
      "text/plain": [
       "<Figure size 432x288 with 1 Axes>"
      ]
     },
     "metadata": {
      "needs_background": "light"
     },
     "output_type": "display_data"
    }
   ],
   "source": [
    "type_counts = pitch_data[\"pitch_type\"].value_counts()\n",
    "sbn.barplot(x=type_counts.index, y=type_counts)"
   ]
  },
  {
   "cell_type": "markdown",
   "metadata": {},
   "source": [
    "The bar plot shows that over 1/3 of all of the pitches thrown are four-seam fastballs, with sliders, changeups, and curveballs being the next most common in that order. The next plot will show the distributions of bases yielded per pitch type using a box plot."
   ]
  },
  {
   "cell_type": "code",
   "execution_count": 15,
   "metadata": {},
   "outputs": [
    {
     "data": {
      "text/plain": [
       "<matplotlib.axes._subplots.AxesSubplot at 0x2575b0276d8>"
      ]
     },
     "execution_count": 15,
     "metadata": {},
     "output_type": "execute_result"
    },
    {
     "data": {
      "image/png": "[encoded data removed]",
      "text/plain": [
       "<Figure size 432x288 with 1 Axes>"
      ]
     },
     "metadata": {
      "needs_background": "light"
     },
     "output_type": "display_data"
    }
   ],
   "source": [
    "sbn.boxplot(x=\"pitch_type\",y=\"bases\",data=pitch_data)"
   ]
  },
  {
   "cell_type": "markdown",
   "metadata": {},
   "source": [
    "This plot does not reveal strong correlation between the number of bases yielded and the pitch type. One thing to notice, however, is that changeups and sliders seem to be the most volatile between 0 and 1.0 bases yielded. This shows that these pitches lead to outs more often than the others relative to the number of pitches thrown.  \n",
    "Next is the distribution of the release speeds will be plotted using a histogram."
   ]
  },
  {
   "cell_type": "code",
   "execution_count": 16,
   "metadata": {},
   "outputs": [
    {
     "data": {
      "text/plain": [
       "<matplotlib.axes._subplots.AxesSubplot at 0x2575b169ef0>"
      ]
     },
     "execution_count": 16,
     "metadata": {},
     "output_type": "execute_result"
    },
    {
     "data": {
      "image/png": "[encoded data removed]",
      "text/plain": [
       "<Figure size 432x288 with 1 Axes>"
      ]
     },
     "metadata": {
      "needs_background": "light"
     },
     "output_type": "display_data"
    }
   ],
   "source": [
    "sbn.distplot(pitch_data[\"release_speed\"],kde=False)"
   ]
  },
  {
   "cell_type": "markdown",
   "metadata": {},
   "source": [
    "The histogram shows a significant portion of the pitches thrown are within the 85-92mph range. This is typically the range in which multiple pitch types can be thrown.  \n",
    "Now, the relationship between release speed and bases yielded will be explored using a joint plot."
   ]
  },
  {
   "cell_type": "code",
   "execution_count": 17,
   "metadata": {},
   "outputs": [
    {
     "data": {
      "text/plain": [
       "<seaborn.axisgrid.JointGrid at 0x2575c0c66a0>"
      ]
     },
     "execution_count": 17,
     "metadata": {},
     "output_type": "execute_result"
    },
    {
     "data": {
      "image/png": "[encoded data removed]",
      "text/plain": [
       "<Figure size 432x432 with 3 Axes>"
      ]
     },
     "metadata": {
      "needs_background": "light"
     },
     "output_type": "display_data"
    }
   ],
   "source": [
    "sbn.jointplot(x=\"release_speed\",y=\"bases\",data=pitch_data, kind=\"hex\")"
   ]
  },
  {
   "cell_type": "markdown",
   "metadata": {},
   "source": [
    "This plot does not reveal much of a correlation between the release speed and number of bases yielded; however, close examination of the high and low speed areas of the plot does show that the average number of bases yielded drops around these extremes. This is likely due to a lack of data for these regions.  \n",
    "The next variable to be examined is the release spin rate. The first plot will be a histogram showing the distribution of the values in this column."
   ]
  },
  {
   "cell_type": "code",
   "execution_count": 18,
   "metadata": {},
   "outputs": [
    {
     "data": {
      "text/plain": [
       "<matplotlib.axes._subplots.AxesSubplot at 0x2575c3bb6d8>"
      ]
     },
     "execution_count": 18,
     "metadata": {},
     "output_type": "execute_result"
    },
    {
     "data": {
      "image/png": "[encoded data removed]",
      "text/plain": [
       "<Figure size 432x288 with 1 Axes>"
      ]
     },
     "metadata": {
      "needs_background": "light"
     },
     "output_type": "display_data"
    }
   ],
   "source": [
    "sbn.distplot(pitch_data[\"release_spin_rate\"],kde=False)"
   ]
  },
  {
   "cell_type": "markdown",
   "metadata": {},
   "source": [
    "The histogram shows that the average spin rate is around 2500 rotations per minute (rpm). The plot also shows that the range of this variable extends from around 1000 rpm all the way to nearly 3500 rpm.  \n",
    "The next plot will show the relationship to bases yielded, again using a joint plot."
   ]
  },
  {
   "cell_type": "code",
   "execution_count": 19,
   "metadata": {},
   "outputs": [
    {
     "data": {
      "text/plain": [
       "<seaborn.axisgrid.JointGrid at 0x2575c4ef710>"
      ]
     },
     "execution_count": 19,
     "metadata": {},
     "output_type": "execute_result"
    },
    {
     "data": {
      "image/png": "[encoded data removed]",
      "text/plain": [
       "<Figure size 432x432 with 3 Axes>"
      ]
     },
     "metadata": {
      "needs_background": "light"
     },
     "output_type": "display_data"
    }
   ],
   "source": [
    "sbn.jointplot(x=\"release_spin_rate\",y=\"bases\",data=pitch_data, kind=\"hex\")"
   ]
  },
  {
   "attachments": {
    "image.png": {
     "image/png": "[encoded data removed]"
    }
   },
   "cell_type": "markdown",
   "metadata": {},
   "source": [
    "The plot shows a stronger correlation than with the release speed. With the bases yielded being the lowest near the right and left edges of the plot. This is likely because very high and very low spin rates can cause the ball to move significantly farther in flight, making it much more difficult for the batter to predict its location.  \n",
    "The next variable to be analyzed is the zone. The zones are laid out as follows:   \n",
    "\n",
    "![image.png](attachment:image.png)  \n",
    "\n",
    "The first plot will show the distribution of pitches using a bar chart."
   ]
  },
  {
   "cell_type": "code",
   "execution_count": 20,
   "metadata": {},
   "outputs": [
    {
     "data": {
      "text/plain": [
       "<matplotlib.axes._subplots.AxesSubplot at 0x2575c3a8198>"
      ]
     },
     "execution_count": 20,
     "metadata": {},
     "output_type": "execute_result"
    },
    {
     "data": {
      "image/png": "[encoded data removed]",
      "text/plain": [
       "<Figure size 432x288 with 1 Axes>"
      ]
     },
     "metadata": {
      "needs_background": "light"
     },
     "output_type": "display_data"
    }
   ],
   "source": [
    "zone_counts = pitch_data[\"zone\"].value_counts()\n",
    "sbn.barplot(x=zone_counts.index, y=zone_counts)"
   ]
  },
  {
   "cell_type": "markdown",
   "metadata": {},
   "source": [
    "The bar plot shows that the higher zones are typically avoided, while low and outside the strikezone are targeted frequently.  \n",
    "Next, a box plot will be used to show the relationship between the zone and the bases yielded."
   ]
  },
  {
   "cell_type": "code",
   "execution_count": 21,
   "metadata": {},
   "outputs": [
    {
     "data": {
      "text/plain": [
       "<matplotlib.axes._subplots.AxesSubplot at 0x2575961f320>"
      ]
     },
     "execution_count": 21,
     "metadata": {},
     "output_type": "execute_result"
    },
    {
     "data": {
      "image/png": "[encoded data removed]",
      "text/plain": [
       "<Figure size 432x288 with 1 Axes>"
      ]
     },
     "metadata": {
      "needs_background": "light"
     },
     "output_type": "display_data"
    }
   ],
   "source": [
    "sbn.boxplot(x=\"zone\",y=\"bases\",data=pitch_data)"
   ]
  },
  {
   "cell_type": "markdown",
   "metadata": {},
   "source": [
    "The boxplot shows that the number of bases yielded is typically lowest when throwing to the 2, 5, 6, 8, or 9 zones. The amount of hits for multiple bases, however, is lower when throwing to the 11, 12, 13, or 14 zones. This is likely because these zones are outside the strike zone and do not incentivize the hitter to swing as often.  \n",
    "The next features to be examined are the pitcher and batter handedness. These will be evaluated at the same time because the combinations of pitcher and batter handedness are often considered when picking matchups in games. The first two plots show the pitcher and batter handedness distributions using bar plots."
   ]
  },
  {
   "cell_type": "code",
   "execution_count": 22,
   "metadata": {},
   "outputs": [
    {
     "data": {
      "text/plain": [
       "<matplotlib.axes._subplots.AxesSubplot at 0x2575da78908>"
      ]
     },
     "execution_count": 22,
     "metadata": {},
     "output_type": "execute_result"
    },
    {
     "data": {
      "image/png": "[encoded data removed]",
      "text/plain": [
       "<Figure size 432x288 with 1 Axes>"
      ]
     },
     "metadata": {
      "needs_background": "light"
     },
     "output_type": "display_data"
    }
   ],
   "source": [
    "throw_counts = pitch_data[\"p_throws\"].value_counts()\n",
    "sbn.barplot(x=throw_counts.index, y=throw_counts)"
   ]
  },
  {
   "cell_type": "markdown",
   "metadata": {},
   "source": [
    "This plot shows that there are about 6500 pitches thrown by left handed pitchers and 8500 pitches thrown by right handed pitchers in the data set."
   ]
  },
  {
   "cell_type": "code",
   "execution_count": 23,
   "metadata": {},
   "outputs": [
    {
     "data": {
      "text/plain": [
       "<matplotlib.axes._subplots.AxesSubplot at 0x2575db0fbe0>"
      ]
     },
     "execution_count": 23,
     "metadata": {},
     "output_type": "execute_result"
    },
    {
     "data": {
      "image/png": "[encoded data removed]",
      "text/plain": [
       "<Figure size 432x288 with 1 Axes>"
      ]
     },
     "metadata": {
      "needs_background": "light"
     },
     "output_type": "display_data"
    }
   ],
   "source": [
    "stand_counts = pitch_data[\"stand\"].value_counts()\n",
    "sbn.barplot(x=stand_counts.index, y=stand_counts)"
   ]
  },
  {
   "cell_type": "markdown",
   "metadata": {},
   "source": [
    "This plot shows that there are about 6000 pitches taken by left handed batters and 9000 pitches taken by right handed batters in the data set. Next, a heat map will be used to show the average bases yielded to the combinations of left and right handed batters and pitchers."
   ]
  },
  {
   "cell_type": "code",
   "execution_count": 24,
   "metadata": {},
   "outputs": [
    {
     "data": {
      "text/plain": [
       "<matplotlib.axes._subplots.AxesSubplot at 0x2575db89160>"
      ]
     },
     "execution_count": 24,
     "metadata": {},
     "output_type": "execute_result"
    },
    {
     "data": {
      "image/png": "[encoded data removed]",
      "text/plain": [
       "<Figure size 432x288 with 2 Axes>"
      ]
     },
     "metadata": {
      "needs_background": "light"
     },
     "output_type": "display_data"
    }
   ],
   "source": [
    "stance_hm_data = pd.pivot_table(pitch_data, values=\"bases\", index=[\"p_throws\"], columns=\"stand\")\n",
    "sbn.heatmap(stance_hm_data, annot=True)"
   ]
  },
  {
   "cell_type": "markdown",
   "metadata": {},
   "source": [
    "The heatmap shows that the best matchup for the pitcher is when both are right handed while the worst is when the pitcher is left handed and the batter is right handed.  \n",
    "The next variable to be analyzed is the pitch number for the at-bat. The first plot will show a distribution of the data points using a bar plot."
   ]
  },
  {
   "cell_type": "code",
   "execution_count": 25,
   "metadata": {},
   "outputs": [
    {
     "data": {
      "text/plain": [
       "<matplotlib.axes._subplots.AxesSubplot at 0x2575dc3e4a8>"
      ]
     },
     "execution_count": 25,
     "metadata": {},
     "output_type": "execute_result"
    },
    {
     "data": {
      "image/png": "[encoded data removed]",
      "text/plain": [
       "<Figure size 432x288 with 1 Axes>"
      ]
     },
     "metadata": {
      "needs_background": "light"
     },
     "output_type": "display_data"
    }
   ],
   "source": [
    "pitch_counts = pitch_data[\"pitch_number\"].value_counts()\n",
    "sbn.barplot(x=pitch_counts.index, y=pitch_counts)"
   ]
  },
  {
   "cell_type": "markdown",
   "metadata": {},
   "source": [
    "The histogram shows that pitchers in this data set typically pitch 4-5 pitches per at-bat and 13 is the most pitches thrown to one batter. The next plot shows the relationship between pitch number and bases yielded, using a boxplot."
   ]
  },
  {
   "cell_type": "code",
   "execution_count": 26,
   "metadata": {},
   "outputs": [
    {
     "data": {
      "text/plain": [
       "<matplotlib.axes._subplots.AxesSubplot at 0x2575dcd56d8>"
      ]
     },
     "execution_count": 26,
     "metadata": {},
     "output_type": "execute_result"
    },
    {
     "data": {
      "image/png": "[encoded data removed]",
      "text/plain": [
       "<Figure size 432x288 with 1 Axes>"
      ]
     },
     "metadata": {
      "needs_background": "light"
     },
     "output_type": "display_data"
    }
   ],
   "source": [
    "sbn.boxplot(x=\"pitch_number\",y=\"bases\",data=pitch_data)"
   ]
  },
  {
   "cell_type": "markdown",
   "metadata": {},
   "source": [
    "The plot shows that the distribution of bases yielded gets wider as the pitch number in the at-bat goes up.  \n",
    "Next, the count of balls and strikes will be examined. First, the balls and strikes will each be characterized with bar plots."
   ]
  },
  {
   "cell_type": "code",
   "execution_count": 27,
   "metadata": {},
   "outputs": [
    {
     "data": {
      "text/plain": [
       "<matplotlib.axes._subplots.AxesSubplot at 0x2575dd230f0>"
      ]
     },
     "execution_count": 27,
     "metadata": {},
     "output_type": "execute_result"
    },
    {
     "data": {
      "image/png": "[encoded data removed]",
      "text/plain": [
       "<Figure size 432x288 with 1 Axes>"
      ]
     },
     "metadata": {
      "needs_background": "light"
     },
     "output_type": "display_data"
    }
   ],
   "source": [
    "ball_counts = pitch_data[\"balls\"].value_counts()\n",
    "sbn.barplot(x=ball_counts.index, y=ball_counts)"
   ]
  },
  {
   "cell_type": "code",
   "execution_count": 28,
   "metadata": {},
   "outputs": [
    {
     "data": {
      "text/plain": [
       "<matplotlib.axes._subplots.AxesSubplot at 0x2575de90f28>"
      ]
     },
     "execution_count": 28,
     "metadata": {},
     "output_type": "execute_result"
    },
    {
     "data": {
      "image/png": "[encoded data removed]",
      "text/plain": [
       "<Figure size 432x288 with 1 Axes>"
      ]
     },
     "metadata": {
      "needs_background": "light"
     },
     "output_type": "display_data"
    }
   ],
   "source": [
    "strike_counts = pitch_data[\"strikes\"].value_counts()\n",
    "sbn.barplot(x=strike_counts.index, y=strike_counts)"
   ]
  },
  {
   "cell_type": "markdown",
   "metadata": {},
   "source": [
    "The plots show that the number of pitches decreases as the number of balls and strikes decreases. The next plot shows a heat map of the pitch quality for each of the possible pitch counts."
   ]
  },
  {
   "cell_type": "code",
   "execution_count": 29,
   "metadata": {},
   "outputs": [
    {
     "data": {
      "text/plain": [
       "<matplotlib.axes._subplots.AxesSubplot at 0x2575dedf7f0>"
      ]
     },
     "execution_count": 29,
     "metadata": {},
     "output_type": "execute_result"
    },
    {
     "data": {
      "image/png": "[encoded data removed]",
      "text/plain": [
       "<Figure size 432x288 with 2 Axes>"
      ]
     },
     "metadata": {
      "needs_background": "light"
     },
     "output_type": "display_data"
    }
   ],
   "source": [
    "count_hm_data = pd.pivot_table(pitch_data, values=\"bases\", index=[\"balls\"], columns=\"strikes\")\n",
    "sbn.heatmap(count_hm_data, annot=True)"
   ]
  },
  {
   "cell_type": "markdown",
   "metadata": {},
   "source": [
    "As shown in the heat map, the number of bases yielded tends to decrease as the number of strikes increase and the number of balls decrease.  \n",
    "The final variable to explore is the release point. The release point consists of an x-coordinate and a z-coordinate, both of which will be characterized in the histograms below."
   ]
  },
  {
   "cell_type": "code",
   "execution_count": 30,
   "metadata": {},
   "outputs": [
    {
     "data": {
      "text/plain": [
       "<matplotlib.axes._subplots.AxesSubplot at 0x2575df7e240>"
      ]
     },
     "execution_count": 30,
     "metadata": {},
     "output_type": "execute_result"
    },
    {
     "data": {
      "image/png": "[encoded data removed]",
      "text/plain": [
       "<Figure size 432x288 with 1 Axes>"
      ]
     },
     "metadata": {
      "needs_background": "light"
     },
     "output_type": "display_data"
    }
   ],
   "source": [
    "sbn.distplot(pitch_data[\"release_pos_x\"],kde=False)"
   ]
  },
  {
   "cell_type": "code",
   "execution_count": 31,
   "metadata": {},
   "outputs": [
    {
     "data": {
      "text/plain": [
       "<matplotlib.axes._subplots.AxesSubplot at 0x2575e0087b8>"
      ]
     },
     "execution_count": 31,
     "metadata": {},
     "output_type": "execute_result"
    },
    {
     "data": {
      "image/png": "[encoded data removed]",
      "text/plain": [
       "<Figure size 432x288 with 1 Axes>"
      ]
     },
     "metadata": {
      "needs_background": "light"
     },
     "output_type": "display_data"
    }
   ],
   "source": [
    "sbn.distplot(pitch_data[\"release_pos_z\"],kde=False)"
   ]
  },
  {
   "cell_type": "markdown",
   "metadata": {},
   "source": [
    "The histograms show that the majority of release points are around 6.5 feet above the ground and 2 feet left of the body or 3 feet right of the body.  \n",
    "The final plots utilize hex plots to show the bases yielded with the different combinations of veritcal and horizontal release points."
   ]
  },
  {
   "cell_type": "code",
   "execution_count": 32,
   "metadata": {},
   "outputs": [
    {
     "data": {
      "text/plain": [
       "<seaborn.axisgrid.JointGrid at 0x2575e0c1d68>"
      ]
     },
     "execution_count": 32,
     "metadata": {},
     "output_type": "execute_result"
    },
    {
     "data": {
      "image/png": "[encoded data removed]",
      "text/plain": [
       "<Figure size 432x432 with 3 Axes>"
      ]
     },
     "metadata": {
      "needs_background": "light"
     },
     "output_type": "display_data"
    }
   ],
   "source": [
    "sbn.jointplot(x=\"release_pos_z\",y=\"bases\",data=pitch_data, kind=\"hex\")"
   ]
  },
  {
   "cell_type": "markdown",
   "metadata": {},
   "source": [
    "The hex plot shows that the large majority of pitches are thrown at about 6.5 feet above the ground, but there does not seem to be a strong correlation between the bases yielded and vertical release point."
   ]
  },
  {
   "cell_type": "code",
   "execution_count": 33,
   "metadata": {},
   "outputs": [
    {
     "data": {
      "text/plain": [
       "<seaborn.axisgrid.JointGrid at 0x2575e1a0940>"
      ]
     },
     "execution_count": 33,
     "metadata": {},
     "output_type": "execute_result"
    },
    {
     "data": {
      "image/png": "[encoded data removed]",
      "text/plain": [
       "<Figure size 432x432 with 3 Axes>"
      ]
     },
     "metadata": {
      "needs_background": "light"
     },
     "output_type": "display_data"
    }
   ],
   "source": [
    "sbn.jointplot(x=\"release_pos_x\",y=\"bases\",data=pitch_data, kind=\"hex\")"
   ]
  },
  {
   "cell_type": "markdown",
   "metadata": {},
   "source": [
    "The hex plot shows that the large majority of pitches are thrown about 2 feet to the left of center for left handed pitchers and 3 feet to the right of center for right handed pitchers, but there also does not seem to be a strong correlation between the bases yielded and horizontal release point that can be drawn from looking at the plot.\n",
    "\n",
    "## Linear Regression Modeling  \n",
    "\n",
    "Now that the target features have been analyzed, they can be used in a few different machine learning models to determine how they affect the accuracy of the models. This section will focus on creating and evaluating these models to determine which features have the most predictive power.  \n",
    "This process starts by creating dummy variables for all of the categorical variables that will be used."
   ]
  },
  {
   "cell_type": "code",
   "execution_count": 34,
   "metadata": {},
   "outputs": [],
   "source": [
    "dummy_cols =  {}\n",
    "for name in cat_names :\n",
    "    dummies = pd.get_dummies(pitch_data[name], prefix=name)\n",
    "    dummy_cols[name] = dummies.columns.values\n",
    "    for dum_name in dummies.columns.values :\n",
    "        pitch_data[dum_name] = dummies[dum_name]\n",
    "    pitch_data = pitch_data.drop(columns = name)"
   ]
  },
  {
   "cell_type": "code",
   "execution_count": 35,
   "metadata": {},
   "outputs": [
    {
     "data": {
      "text/html": [
       "<div>\n",
       "<style scoped>\n",
       "    .dataframe tbody tr th:only-of-type {\n",
       "        vertical-align: middle;\n",
       "    }\n",
       "\n",
       "    .dataframe tbody tr th {\n",
       "        vertical-align: top;\n",
       "    }\n",
       "\n",
       "    .dataframe thead th {\n",
       "        text-align: right;\n",
       "    }\n",
       "</style>\n",
       "<table border=\"1\" class=\"dataframe\">\n",
       "  <thead>\n",
       "    <tr style=\"text-align: right;\">\n",
       "      <th></th>\n",
       "      <th>game_date</th>\n",
       "      <th>release_speed</th>\n",
       "      <th>release_pos_x</th>\n",
       "      <th>release_pos_z</th>\n",
       "      <th>player_name</th>\n",
       "      <th>batter</th>\n",
       "      <th>pitcher</th>\n",
       "      <th>des</th>\n",
       "      <th>game_type</th>\n",
       "      <th>home_team</th>\n",
       "      <th>...</th>\n",
       "      <th>pitch_number_4</th>\n",
       "      <th>pitch_number_5</th>\n",
       "      <th>pitch_number_6</th>\n",
       "      <th>pitch_number_7</th>\n",
       "      <th>pitch_number_8</th>\n",
       "      <th>pitch_number_9</th>\n",
       "      <th>pitch_number_10</th>\n",
       "      <th>pitch_number_11</th>\n",
       "      <th>pitch_number_12</th>\n",
       "      <th>pitch_number_13</th>\n",
       "    </tr>\n",
       "  </thead>\n",
       "  <tbody>\n",
       "    <tr>\n",
       "      <th>0</th>\n",
       "      <td>2019-09-29</td>\n",
       "      <td>90.5</td>\n",
       "      <td>1.3508</td>\n",
       "      <td>6.1911</td>\n",
       "      <td>Clayton Kershaw</td>\n",
       "      <td>518516</td>\n",
       "      <td>477132</td>\n",
       "      <td>Madison Bumgarner lines out to third baseman J...</td>\n",
       "      <td>R</td>\n",
       "      <td>SF</td>\n",
       "      <td>...</td>\n",
       "      <td>0</td>\n",
       "      <td>0</td>\n",
       "      <td>0</td>\n",
       "      <td>1</td>\n",
       "      <td>0</td>\n",
       "      <td>0</td>\n",
       "      <td>0</td>\n",
       "      <td>0</td>\n",
       "      <td>0</td>\n",
       "      <td>0</td>\n",
       "    </tr>\n",
       "    <tr>\n",
       "      <th>1</th>\n",
       "      <td>2019-09-29</td>\n",
       "      <td>91.1</td>\n",
       "      <td>1.3839</td>\n",
       "      <td>6.1994</td>\n",
       "      <td>Clayton Kershaw</td>\n",
       "      <td>518516</td>\n",
       "      <td>477132</td>\n",
       "      <td>NaN</td>\n",
       "      <td>R</td>\n",
       "      <td>SF</td>\n",
       "      <td>...</td>\n",
       "      <td>0</td>\n",
       "      <td>0</td>\n",
       "      <td>1</td>\n",
       "      <td>0</td>\n",
       "      <td>0</td>\n",
       "      <td>0</td>\n",
       "      <td>0</td>\n",
       "      <td>0</td>\n",
       "      <td>0</td>\n",
       "      <td>0</td>\n",
       "    </tr>\n",
       "    <tr>\n",
       "      <th>2</th>\n",
       "      <td>2019-09-29</td>\n",
       "      <td>89.7</td>\n",
       "      <td>1.4225</td>\n",
       "      <td>6.2320</td>\n",
       "      <td>Clayton Kershaw</td>\n",
       "      <td>518516</td>\n",
       "      <td>477132</td>\n",
       "      <td>NaN</td>\n",
       "      <td>R</td>\n",
       "      <td>SF</td>\n",
       "      <td>...</td>\n",
       "      <td>0</td>\n",
       "      <td>1</td>\n",
       "      <td>0</td>\n",
       "      <td>0</td>\n",
       "      <td>0</td>\n",
       "      <td>0</td>\n",
       "      <td>0</td>\n",
       "      <td>0</td>\n",
       "      <td>0</td>\n",
       "      <td>0</td>\n",
       "    </tr>\n",
       "    <tr>\n",
       "      <th>3</th>\n",
       "      <td>2019-09-29</td>\n",
       "      <td>90.3</td>\n",
       "      <td>1.3502</td>\n",
       "      <td>6.2253</td>\n",
       "      <td>Clayton Kershaw</td>\n",
       "      <td>518516</td>\n",
       "      <td>477132</td>\n",
       "      <td>NaN</td>\n",
       "      <td>R</td>\n",
       "      <td>SF</td>\n",
       "      <td>...</td>\n",
       "      <td>1</td>\n",
       "      <td>0</td>\n",
       "      <td>0</td>\n",
       "      <td>0</td>\n",
       "      <td>0</td>\n",
       "      <td>0</td>\n",
       "      <td>0</td>\n",
       "      <td>0</td>\n",
       "      <td>0</td>\n",
       "      <td>0</td>\n",
       "    </tr>\n",
       "    <tr>\n",
       "      <th>4</th>\n",
       "      <td>2019-09-29</td>\n",
       "      <td>90.1</td>\n",
       "      <td>1.4813</td>\n",
       "      <td>6.3368</td>\n",
       "      <td>Clayton Kershaw</td>\n",
       "      <td>518516</td>\n",
       "      <td>477132</td>\n",
       "      <td>NaN</td>\n",
       "      <td>R</td>\n",
       "      <td>SF</td>\n",
       "      <td>...</td>\n",
       "      <td>0</td>\n",
       "      <td>0</td>\n",
       "      <td>0</td>\n",
       "      <td>0</td>\n",
       "      <td>0</td>\n",
       "      <td>0</td>\n",
       "      <td>0</td>\n",
       "      <td>0</td>\n",
       "      <td>0</td>\n",
       "      <td>0</td>\n",
       "    </tr>\n",
       "  </tbody>\n",
       "</table>\n",
       "<p>5 rows × 162 columns</p>\n",
       "</div>"
      ],
      "text/plain": [
       "    game_date  release_speed  release_pos_x  release_pos_z      player_name  \\\n",
       "0  2019-09-29           90.5         1.3508         6.1911  Clayton Kershaw   \n",
       "1  2019-09-29           91.1         1.3839         6.1994  Clayton Kershaw   \n",
       "2  2019-09-29           89.7         1.4225         6.2320  Clayton Kershaw   \n",
       "3  2019-09-29           90.3         1.3502         6.2253  Clayton Kershaw   \n",
       "4  2019-09-29           90.1         1.4813         6.3368  Clayton Kershaw   \n",
       "\n",
       "   batter  pitcher                                                des  \\\n",
       "0  518516   477132  Madison Bumgarner lines out to third baseman J...   \n",
       "1  518516   477132                                                NaN   \n",
       "2  518516   477132                                                NaN   \n",
       "3  518516   477132                                                NaN   \n",
       "4  518516   477132                                                NaN   \n",
       "\n",
       "  game_type home_team       ...        pitch_number_4  pitch_number_5  \\\n",
       "0         R        SF       ...                     0               0   \n",
       "1         R        SF       ...                     0               0   \n",
       "2         R        SF       ...                     0               1   \n",
       "3         R        SF       ...                     1               0   \n",
       "4         R        SF       ...                     0               0   \n",
       "\n",
       "  pitch_number_6  pitch_number_7  pitch_number_8  pitch_number_9  \\\n",
       "0              0               1               0               0   \n",
       "1              1               0               0               0   \n",
       "2              0               0               0               0   \n",
       "3              0               0               0               0   \n",
       "4              0               0               0               0   \n",
       "\n",
       "   pitch_number_10  pitch_number_11  pitch_number_12  pitch_number_13  \n",
       "0                0                0                0                0  \n",
       "1                0                0                0                0  \n",
       "2                0                0                0                0  \n",
       "3                0                0                0                0  \n",
       "4                0                0                0                0  \n",
       "\n",
       "[5 rows x 162 columns]"
      ]
     },
     "execution_count": 35,
     "metadata": {},
     "output_type": "execute_result"
    }
   ],
   "source": [
    "pitch_data.head()"
   ]
  },
  {
   "cell_type": "markdown",
   "metadata": {},
   "source": [
    "Now that the dummy variables have been created, and the head() function confirmed that the columns are correctly in place, the linear regression models can be created.\n",
    "The next part to creating these models is defining the training and testing sets that will be used for training and evaluation."
   ]
  },
  {
   "cell_type": "code",
   "execution_count": 36,
   "metadata": {},
   "outputs": [
    {
     "name": "stdout",
     "output_type": "stream",
     "text": [
      "15352 11514 3838\n"
     ]
    }
   ],
   "source": [
    "train_set, test_set = train_test_split(pitch_data)\n",
    "print(pitch_data.shape[0],train_set.shape[0],test_set.shape[0])"
   ]
  },
  {
   "cell_type": "markdown",
   "metadata": {},
   "source": [
    "The printed shapes of the training and testing set show that the training set is made up as 75% of the data set and the testing set is the other 25%.  \n",
    "The fit method, from Scikit Learn, that will be used in this analysis takes two parameters: a feature matrix and a 1-dimensional vector of outcomes. The first things that will be created are the outcome vectors for the training and testing sets and a basic feature matrix. "
   ]
  },
  {
   "cell_type": "code",
   "execution_count": 37,
   "metadata": {},
   "outputs": [
    {
     "name": "stdout",
     "output_type": "stream",
     "text": [
      "<class 'numpy.ndarray'> (11514, 1) float64\n",
      "<class 'numpy.ndarray'> (11514,) float64\n"
     ]
    }
   ],
   "source": [
    "x_train = train_set[[\"release_speed\"]].values\n",
    "x_test = test_set[[\"release_speed\"]].values\n",
    "y_train = train_set[\"bases\"].values\n",
    "y_test = test_set[\"bases\"].values\n",
    "\n",
    "print(type(x_train), x_train.shape, x_train.dtype)\n",
    "print(type(y_train), y_train.shape, y_train.dtype)"
   ]
  },
  {
   "cell_type": "markdown",
   "metadata": {},
   "source": [
    "### Base Model\n",
    "\n",
    "This model will be created using only the intercept, forming the baseline to test the accuracy of the rest of the models against. The equation that will be fit is:  \n",
    "\\begin{align}\n",
    "\\hat{y}=\\beta_0\n",
    "\\end{align}   \n",
    "Where \\\\( \\hat{y} \\\\) is the predicted number of yielded bases and \\\\( \\beta_0\\\\) is the constant intercept.   \n",
    "To build this model, a feature matrix of all zeroes can be created for training and testing."
   ]
  },
  {
   "cell_type": "code",
   "execution_count": 38,
   "metadata": {},
   "outputs": [],
   "source": [
    "train_zeros = np.zeros(x_train.shape)\n",
    "test_zeros = np.zeros(x_test.shape)"
   ]
  },
  {
   "cell_type": "markdown",
   "metadata": {},
   "source": [
    "Now, this set can be used with the SGDRegressor class in Scikit Learn to build the baseline model and train it using the fit() function, passing in the matrix of zeros and the expected outcomes."
   ]
  },
  {
   "cell_type": "code",
   "execution_count": 39,
   "metadata": {},
   "outputs": [
    {
     "data": {
      "text/plain": [
       "SGDRegressor(alpha=0.0001, average=False, early_stopping=False, epsilon=0.1,\n",
       "       eta0=0.01, fit_intercept=True, l1_ratio=0.15,\n",
       "       learning_rate='invscaling', loss='squared_loss', max_iter=5000,\n",
       "       n_iter=None, n_iter_no_change=5, penalty='l2', power_t=0.25,\n",
       "       random_state=None, shuffle=True, tol=None, validation_fraction=0.1,\n",
       "       verbose=0, warm_start=False)"
      ]
     },
     "execution_count": 39,
     "metadata": {},
     "output_type": "execute_result"
    }
   ],
   "source": [
    "base = SGDRegressor(max_iter=5000)\n",
    "base.fit(train_zeros, y_train)"
   ]
  },
  {
   "cell_type": "markdown",
   "metadata": {},
   "source": [
    "Now the model can be applied to the testing set to predict number of bases yielded."
   ]
  },
  {
   "cell_type": "code",
   "execution_count": 40,
   "metadata": {},
   "outputs": [],
   "source": [
    "base_pred_bases = base.predict(test_zeros)"
   ]
  },
  {
   "cell_type": "markdown",
   "metadata": {},
   "source": [
    "The model can be evaluated using mean squared error and root-mean squared error methods from Scikit Learn."
   ]
  },
  {
   "cell_type": "code",
   "execution_count": 41,
   "metadata": {},
   "outputs": [
    {
     "name": "stdout",
     "output_type": "stream",
     "text": [
      "Base Model MSE: 0.23315157931553196\n",
      "Base Model RMSE: 0.4828577216070299\n"
     ]
    }
   ],
   "source": [
    "base_mse = mean_squared_error(y_test, base_pred_bases)\n",
    "base_rmse = np.sqrt(base_mse)\n",
    "\n",
    "print(\"Base Model MSE:\", base_mse)\n",
    "print(\"Base Model RMSE:\", base_rmse)"
   ]
  },
  {
   "cell_type": "markdown",
   "metadata": {},
   "source": [
    "This shows that the RMS error between the predicted number of bases and the true number is very large, around 0.4, considering the range of bases is only 0-4. The differences between the prices can be visualized using a scatter plot."
   ]
  },
  {
   "cell_type": "code",
   "execution_count": 42,
   "metadata": {},
   "outputs": [
    {
     "data": {
      "text/plain": [
       "Text(0, 0.5, 'Predicted Bases')"
      ]
     },
     "execution_count": 42,
     "metadata": {},
     "output_type": "execute_result"
    },
    {
     "data": {
      "image/png": "[encoded data removed]",
      "text/plain": [
       "<Figure size 432x288 with 1 Axes>"
      ]
     },
     "metadata": {
      "needs_background": "light"
     },
     "output_type": "display_data"
    }
   ],
   "source": [
    "sbn.regplot(x=y_test, y=base_pred_bases, fit_reg=False)\n",
    "plt.xlabel(\"True Bases\", fontsize=16)\n",
    "plt.ylabel(\"Predicted Bases\", fontsize=16)"
   ]
  },
  {
   "cell_type": "markdown",
   "metadata": {},
   "source": [
    "The baseline model does not take in any features, so it just predicts the average number of bases for every pitch.\n",
    "\n",
    "### Multiple Linear Regression\n",
    "\n",
    "Next, the predicted features of importance can be introduced in an attempt create a model that reduces the error. These features are the pitch type, release speed, spin rate, pitch count, and release point. The feature matrices can be created using the function below. This function takes in the selected columns and determines if they are categorical or numerical, then it creates a feature matrix for each type of feature and concatenates them to form the final feature matrix."
   ]
  },
  {
   "cell_type": "code",
   "execution_count": 43,
   "metadata": {},
   "outputs": [],
   "source": [
    "def create_feature_matrix(df_train, df_test, sel_columns, dum_columns) :\n",
    "    if dum_columns is None:\n",
    "        dum_columns = dict()\n",
    "    \n",
    "    # keep track of the features\n",
    "    numerical_cols = []\n",
    "    categorical_cols = []\n",
    "    \n",
    "    # Determine which features are categorical and numerical\n",
    "    for name in sel_columns :\n",
    "        if name in dum_columns:\n",
    "            categorical_cols.extend(dum_columns[name])\n",
    "        else :\n",
    "            numerical_cols.append(name)\n",
    "            \n",
    "    # Select and process the numerical features by transforming to float64 type and scaling\n",
    "    if len(numerical_cols) > 0:\n",
    "        x_train_num = df_train[numerical_cols].astype(\"float64\").values\n",
    "        x_test_num = df_test[numerical_cols].astype(\"float64\").values\n",
    "        \n",
    "        scaler = StandardScaler()\n",
    "        x_train_num = scaler.fit_transform(x_train_num)\n",
    "        x_test_num = scaler.fit_transform(x_test_num)\n",
    "        \n",
    "    # Select the categorical features    \n",
    "    if len(categorical_cols) > 0:\n",
    "        x_train_cat = df_train[categorical_cols].astype(\"float64\").values\n",
    "        x_test_cat = df_test[categorical_cols].astype(\"float64\").values\n",
    "        \n",
    "    if len(numerical_cols) > 0 and len(categorical_cols) > 0:\n",
    "        x_train = np.hstack([x_train_num, x_train_cat])\n",
    "        x_test = np.hstack([x_test_num, x_test_cat])\n",
    "    elif len(numerical_cols) > 0:\n",
    "        x_train = x_train_num\n",
    "        x_test = x_test_num\n",
    "    else:\n",
    "        x_train = x_train_cat\n",
    "        x_test = x_test_cat\n",
    "    \n",
    "    return x_train, x_test"
   ]
  },
  {
   "cell_type": "markdown",
   "metadata": {},
   "source": [
    "Using this function, the selected columns can be passed in to get the appropriate feature matrix."
   ]
  },
  {
   "cell_type": "code",
   "execution_count": 44,
   "metadata": {},
   "outputs": [],
   "source": [
    "sel_cols = [\"pitch_type\", \"release_speed\", \"balls\", \"strikes\", \"zone\", \"release_spin_rate\"]\n",
    "x_train, x_test = create_feature_matrix(train_set, test_set, sel_cols, dummy_cols)"
   ]
  },
  {
   "cell_type": "markdown",
   "metadata": {},
   "source": [
    "Now the feature matrices have been created, the model can be trained, used to predict the number of bases, and evaluated to determine the error."
   ]
  },
  {
   "cell_type": "code",
   "execution_count": 45,
   "metadata": {},
   "outputs": [
    {
     "name": "stdout",
     "output_type": "stream",
     "text": [
      "Predicted Features Model MSE: 0.22487674040351815\n",
      "Predicted Features Model RMSE: 0.47421170420342657\n"
     ]
    }
   ],
   "source": [
    "mlr_model = SGDRegressor(max_iter=5000)\n",
    "mlr_model.fit(x_train, y_train)\n",
    "\n",
    "mlr_pred_bases = mlr_model.predict(x_test)\n",
    "\n",
    "mlr_mse = mean_squared_error(y_test, mlr_pred_bases)\n",
    "mlr_rmse = np.sqrt(mlr_mse)\n",
    "\n",
    "print(\"Predicted Features Model MSE:\", mlr_mse)\n",
    "print(\"Predicted Features Model RMSE:\", mlr_rmse)"
   ]
  },
  {
   "cell_type": "markdown",
   "metadata": {},
   "source": [
    "Using this model, the error has shown marginal improvement from the baseline. The scatterplot below shows the new predicted bases plotted against the true bases yielded."
   ]
  },
  {
   "cell_type": "code",
   "execution_count": 46,
   "metadata": {},
   "outputs": [
    {
     "data": {
      "text/plain": [
       "Text(0, 0.5, 'Predicted Bases')"
      ]
     },
     "execution_count": 46,
     "metadata": {},
     "output_type": "execute_result"
    },
    {
     "data": {
      "image/png": "[encoded data removed]",
      "text/plain": [
       "<Figure size 432x288 with 1 Axes>"
      ]
     },
     "metadata": {
      "needs_background": "light"
     },
     "output_type": "display_data"
    }
   ],
   "source": [
    "sbn.regplot(x=y_test, y=mlr_pred_bases, fit_reg=False)\n",
    "plt.plot([0, np.max(y_test)], [0, np.max(y_test)])\n",
    "plt.xlabel(\"True Bases\", fontsize=16)\n",
    "plt.ylabel(\"Predicted Bases\", fontsize=16)"
   ]
  },
  {
   "cell_type": "markdown",
   "metadata": {},
   "source": [
    "As seen in the scatteplot, the predictions have begun to consider the features but are still not very accurate.\n",
    "\n",
    "### Linear Regression with Categories\n",
    "\n",
    "The next linear regression model will take in just the categorical variables to test their predictive power."
   ]
  },
  {
   "cell_type": "code",
   "execution_count": 47,
   "metadata": {},
   "outputs": [],
   "source": [
    "cat_cols = [\"pitch_type\", \"zone\", \"p_throws\", \"balls\", \"strikes\", \"outs_when_up\", \"stand\", \"pitch_number\"]\n",
    "x_train, x_test = create_feature_matrix(train_set, test_set, cat_cols, dummy_cols)"
   ]
  },
  {
   "cell_type": "markdown",
   "metadata": {},
   "source": [
    "Now the feature matrices have been created, the new model can be trained, used to predict the number of bases, and evaluated to determine the error."
   ]
  },
  {
   "cell_type": "code",
   "execution_count": 48,
   "metadata": {},
   "outputs": [
    {
     "name": "stdout",
     "output_type": "stream",
     "text": [
      "Categorical Model MSE: 0.22521762597964698\n",
      "Categorical Model RMSE: 0.47457099150669435\n"
     ]
    }
   ],
   "source": [
    "cat_model = SGDRegressor(max_iter=5000)\n",
    "cat_model.fit(x_train, y_train)\n",
    "\n",
    "cat_pred_bases = cat_model.predict(x_test)\n",
    "\n",
    "mlr_mse = mean_squared_error(y_test, cat_pred_bases)\n",
    "mlr_rmse = np.sqrt(mlr_mse)\n",
    "\n",
    "print(\"Categorical Model MSE:\", mlr_mse)\n",
    "print(\"Categorical Model RMSE:\", mlr_rmse)"
   ]
  },
  {
   "cell_type": "markdown",
   "metadata": {},
   "source": [
    "The new model utilizing only the categorical variables shows slightly less accuracy. The scatterplot below shows the new predicted bases plotted against the true bases yielded."
   ]
  },
  {
   "cell_type": "code",
   "execution_count": 49,
   "metadata": {
    "scrolled": true
   },
   "outputs": [
    {
     "data": {
      "text/plain": [
       "Text(0, 0.5, 'Predicted Bases')"
      ]
     },
     "execution_count": 49,
     "metadata": {},
     "output_type": "execute_result"
    },
    {
     "data": {
      "image/png": "[encoded data removed]",
      "text/plain": [
       "<Figure size 432x288 with 1 Axes>"
      ]
     },
     "metadata": {
      "needs_background": "light"
     },
     "output_type": "display_data"
    }
   ],
   "source": [
    "sbn.regplot(x=y_test, y=cat_pred_bases, fit_reg=False)\n",
    "plt.plot([0, np.max(y_test)], [0, np.max(y_test)])\n",
    "plt.xlabel(\"True Bases\", fontsize=16)\n",
    "plt.ylabel(\"Predicted Bases\", fontsize=16)"
   ]
  },
  {
   "cell_type": "markdown",
   "metadata": {},
   "source": [
    "As seen in the scatteplot, the predictions have slightly closer to a linear relation with the true values,.  \n",
    "\n",
    "### Greedy Algorithm\n",
    "\n",
    "Next, a Greedy Algorithm approach will be taken to attempt to further reduce the error in predicting the bases yielded. This method starts by building a simple linear regression model for each feature and sorting the features from lowest to highest error. The following function will perform this function."
   ]
  },
  {
   "cell_type": "code",
   "execution_count": 50,
   "metadata": {},
   "outputs": [],
   "source": [
    "def sort_features(df_train, df_test, y_train, y_test, columns, dum_columns):\n",
    "    rmses = []\n",
    "    # Loop to iterate over all columns\n",
    "    for name in columns :\n",
    "        x_train, x_test = create_feature_matrix(df_train, df_test,\n",
    "                                                 [name], dum_columns)\n",
    "        \n",
    "        simple_lr = SGDRegressor(max_iter=5000, tol=None)\n",
    "        simple_lr.fit(x_train, y_train)\n",
    "        simple_lr_pred = simple_lr.predict(x_test)\n",
    "        simple_mse = mean_squared_error(y_test, simple_lr_pred)\n",
    "        simple_rmse = np.sqrt(simple_mse)\n",
    "        print(name + \" Model MSE:\", simple_mse)\n",
    "        print(name + \" Model RMSE:\", simple_rmse)\n",
    "        print()\n",
    "        rmses.append((simple_rmse, name))\n",
    "        \n",
    "    # sort by the value of the rmse    \n",
    "    rmses.sort(key=lambda p: p[0])\n",
    "    sorted_columns = [name for _, name in rmses]\n",
    "    print(\"Sorted Columns: \" + str(sorted_columns))\n",
    "    return sorted_columns"
   ]
  },
  {
   "cell_type": "markdown",
   "metadata": {},
   "source": [
    "This function can then be used with all of the variables that considered in this data set."
   ]
  },
  {
   "cell_type": "code",
   "execution_count": 51,
   "metadata": {},
   "outputs": [
    {
     "name": "stdout",
     "output_type": "stream",
     "text": [
      "pitch_type Model MSE: 0.23274044971099858\n",
      "pitch_type Model RMSE: 0.48243180835326205\n",
      "\n",
      "release_speed Model MSE: 0.2331868189402139\n",
      "release_speed Model RMSE: 0.48289421092017026\n",
      "\n",
      "release_spin_rate Model MSE: 0.23302776799774758\n",
      "release_spin_rate Model RMSE: 0.4827294977497725\n",
      "\n",
      "zone Model MSE: 0.2339742257401845\n",
      "zone Model RMSE: 0.48370882330197834\n",
      "\n",
      "p_throws Model MSE: 0.23306904188868374\n",
      "p_throws Model RMSE: 0.4827722463943881\n",
      "\n",
      "balls Model MSE: 0.23063356960572604\n",
      "balls Model RMSE: 0.4802432400416752\n",
      "\n",
      "strikes Model MSE: 0.23007192475995347\n",
      "strikes Model RMSE: 0.47965813321568257\n",
      "\n",
      "outs_when_up Model MSE: 0.2332871141106807\n",
      "outs_when_up Model RMSE: 0.4829980477296784\n",
      "\n",
      "stand Model MSE: 0.23313780591955044\n",
      "stand Model RMSE: 0.48284345902119297\n",
      "\n",
      "pitch_number Model MSE: 0.23330351282859677\n",
      "pitch_number Model RMSE: 0.48301502339844127\n",
      "\n",
      "release_pos_x Model MSE: 0.23310045566257542\n",
      "release_pos_x Model RMSE: 0.4828047800742816\n",
      "\n",
      "release_pos_z Model MSE: 0.23303253156225273\n",
      "release_pos_z Model RMSE: 0.4827344317140147\n",
      "\n",
      "Sorted Columns: ['strikes', 'balls', 'pitch_type', 'release_spin_rate', 'release_pos_z', 'p_throws', 'release_pos_x', 'stand', 'release_speed', 'outs_when_up', 'pitch_number', 'zone']\n"
     ]
    }
   ],
   "source": [
    "for name in [\"release_pos_x\", \"release_pos_z\"] :\n",
    "    all_names.append(name)\n",
    "sorted_cols = sort_features(train_set, test_set, y_train, y_test, all_names, dummy_cols)"
   ]
  },
  {
   "cell_type": "markdown",
   "metadata": {},
   "source": [
    "With the columns sorted, they can now be tested by adding them to the model one-by-one and keeping them if they reduce the overall RMSE of the model."
   ]
  },
  {
   "cell_type": "code",
   "execution_count": 52,
   "metadata": {},
   "outputs": [],
   "source": [
    "def select_features(df_train, df_test, y_train, y_test, sorted_cols,\n",
    "                   dummy_cols) :\n",
    "    lr = SGDRegressor(max_iter=5000)\n",
    "    \n",
    "    train_zeros = np.zeros((y_train.shape[0], 1))\n",
    "    test_zeros = np.zeros((y_test.shape[0], 1))\n",
    "    lr.fit(train_zeros, y_train)\n",
    "    pred_y = lr.predict(test_zeros)\n",
    "    \n",
    "    base_mse = mean_squared_error(y_test, pred_y)\n",
    "    base_rmse = np.sqrt(base_mse)\n",
    "    model_features = []\n",
    "    \n",
    "    print(\"Base Model MSE:\", base_mse)\n",
    "    print(\"Base Model RMSE:\", base_rmse)\n",
    "    print()\n",
    "    \n",
    "    for name in sorted_cols :\n",
    "        test_cols = model_features[:]\n",
    "        test_cols.append(name)\n",
    "        x_train, x_test = create_feature_matrix(df_train,\n",
    "                                                  df_test,\n",
    "                                                  test_cols,\n",
    "                                                  dummy_cols)\n",
    "        lr = SGDRegressor(max_iter=5000)\n",
    "        lr.fit(x_train, y_train)\n",
    "        pred_y = lr.predict(x_test)\n",
    "        test_mse = mean_squared_error(y_test, pred_y)\n",
    "        test_rmse = np.sqrt(test_mse)\n",
    "        print()\n",
    "        print(str(test_cols) + \" Model MSE:\", test_mse)\n",
    "        print(str(test_cols) + \" Model RMSE:\", test_rmse)\n",
    "        \n",
    "        if test_rmse < base_rmse:\n",
    "            print(\"Updating model\")\n",
    "            base_rmse = test_rmse\n",
    "            base_mse = test_mse\n",
    "            model_features = test_cols\n",
    "        \n",
    "        print()\n",
    "        print(\"Model MSE:\", base_mse)\n",
    "        print(\"Model RMSE:\", base_rmse)\n",
    "        print()\n",
    "    \n",
    "    \n",
    "    print(\"The columns chosen are: \" + str(model_features))\n",
    "    return model_features"
   ]
  },
  {
   "cell_type": "markdown",
   "metadata": {},
   "source": [
    "Now the function can be applied to the sorted list to select the appropriate features using a Greedy Algorithm approach."
   ]
  },
  {
   "cell_type": "code",
   "execution_count": 53,
   "metadata": {},
   "outputs": [
    {
     "name": "stdout",
     "output_type": "stream",
     "text": [
      "Base Model MSE: 0.23314211060591916\n",
      "Base Model RMSE: 0.48284791664241355\n",
      "\n",
      "\n",
      "['strikes'] Model MSE: 0.2300249811484746\n",
      "['strikes'] Model RMSE: 0.4796091962717923\n",
      "Updating model\n",
      "\n",
      "Model MSE: 0.2300249811484746\n",
      "Model RMSE: 0.4796091962717923\n",
      "\n",
      "\n",
      "['strikes', 'balls'] Model MSE: 0.22407010465304195\n",
      "['strikes', 'balls'] Model RMSE: 0.4733604384114096\n",
      "Updating model\n",
      "\n",
      "Model MSE: 0.22407010465304195\n",
      "Model RMSE: 0.4733604384114096\n",
      "\n",
      "\n",
      "['strikes', 'balls', 'pitch_type'] Model MSE: 0.22411817212077192\n",
      "['strikes', 'balls', 'pitch_type'] Model RMSE: 0.4734112082753976\n",
      "\n",
      "Model MSE: 0.22407010465304195\n",
      "Model RMSE: 0.4733604384114096\n",
      "\n",
      "\n",
      "['strikes', 'balls', 'release_spin_rate'] Model MSE: 0.22411378795152243\n",
      "['strikes', 'balls', 'release_spin_rate'] Model RMSE: 0.4734065778498672\n",
      "\n",
      "Model MSE: 0.22407010465304195\n",
      "Model RMSE: 0.4733604384114096\n",
      "\n",
      "\n",
      "['strikes', 'balls', 'release_pos_z'] Model MSE: 0.2240671017581325\n",
      "['strikes', 'balls', 'release_pos_z'] Model RMSE: 0.47335726651033094\n",
      "Updating model\n",
      "\n",
      "Model MSE: 0.2240671017581325\n",
      "Model RMSE: 0.47335726651033094\n",
      "\n",
      "\n",
      "['strikes', 'balls', 'release_pos_z', 'p_throws'] Model MSE: 0.22408423512156153\n",
      "['strikes', 'balls', 'release_pos_z', 'p_throws'] Model RMSE: 0.4733753638726476\n",
      "\n",
      "Model MSE: 0.2240671017581325\n",
      "Model RMSE: 0.47335726651033094\n",
      "\n",
      "\n",
      "['strikes', 'balls', 'release_pos_z', 'release_pos_x'] Model MSE: 0.22406249206497045\n",
      "['strikes', 'balls', 'release_pos_z', 'release_pos_x'] Model RMSE: 0.4733523973373014\n",
      "Updating model\n",
      "\n",
      "Model MSE: 0.22406249206497045\n",
      "Model RMSE: 0.4733523973373014\n",
      "\n",
      "\n",
      "['strikes', 'balls', 'release_pos_z', 'release_pos_x', 'stand'] Model MSE: 0.2239975010713109\n",
      "['strikes', 'balls', 'release_pos_z', 'release_pos_x', 'stand'] Model RMSE: 0.47328374266533907\n",
      "Updating model\n",
      "\n",
      "Model MSE: 0.2239975010713109\n",
      "Model RMSE: 0.47328374266533907\n",
      "\n",
      "\n",
      "['strikes', 'balls', 'release_pos_z', 'release_pos_x', 'stand', 'release_speed'] Model MSE: 0.2240891522795428\n",
      "['strikes', 'balls', 'release_pos_z', 'release_pos_x', 'stand', 'release_speed'] Model RMSE: 0.4733805575639359\n",
      "\n",
      "Model MSE: 0.2239975010713109\n",
      "Model RMSE: 0.47328374266533907\n",
      "\n",
      "\n",
      "['strikes', 'balls', 'release_pos_z', 'release_pos_x', 'stand', 'outs_when_up'] Model MSE: 0.22420060718160742\n",
      "['strikes', 'balls', 'release_pos_z', 'release_pos_x', 'stand', 'outs_when_up'] Model RMSE: 0.47349826523611194\n",
      "\n",
      "Model MSE: 0.2239975010713109\n",
      "Model RMSE: 0.47328374266533907\n",
      "\n",
      "\n",
      "['strikes', 'balls', 'release_pos_z', 'release_pos_x', 'stand', 'pitch_number'] Model MSE: 0.22426646806159103\n",
      "['strikes', 'balls', 'release_pos_z', 'release_pos_x', 'stand', 'pitch_number'] Model RMSE: 0.47356780724790726\n",
      "\n",
      "Model MSE: 0.2239975010713109\n",
      "Model RMSE: 0.47328374266533907\n",
      "\n",
      "\n",
      "['strikes', 'balls', 'release_pos_z', 'release_pos_x', 'stand', 'zone'] Model MSE: 0.22482078576799971\n",
      "['strikes', 'balls', 'release_pos_z', 'release_pos_x', 'stand', 'zone'] Model RMSE: 0.47415270300610934\n",
      "\n",
      "Model MSE: 0.2239975010713109\n",
      "Model RMSE: 0.47328374266533907\n",
      "\n",
      "The columns chosen are: ['strikes', 'balls', 'release_pos_z', 'release_pos_x', 'stand']\n"
     ]
    }
   ],
   "source": [
    "selected_columns = select_features(train_set, test_set, y_train, y_test,\n",
    "                                  sorted_cols, dummy_cols)"
   ]
  },
  {
   "cell_type": "markdown",
   "metadata": {},
   "source": [
    "The Greedy approach again shows marginal improvement over the categorical model. One thing to note about the features chosen in the Greedy algorithm is that both balls and strikes were both chosen. This likely that the pitch count has a lot of predictive power in determining the outcome of at-bats."
   ]
  },
  {
   "cell_type": "code",
   "execution_count": 54,
   "metadata": {},
   "outputs": [
    {
     "data": {
      "text/plain": [
       "Text(0, 0.5, 'Predicted Bases')"
      ]
     },
     "execution_count": 54,
     "metadata": {},
     "output_type": "execute_result"
    },
    {
     "data": {
      "image/png": "[encoded data removed]",
      "text/plain": [
       "<Figure size 432x288 with 1 Axes>"
      ]
     },
     "metadata": {
      "needs_background": "light"
     },
     "output_type": "display_data"
    }
   ],
   "source": [
    "greedy_model = SGDRegressor(max_iter=5000)\n",
    "greedy_model.fit(x_train, y_train)\n",
    "\n",
    "greedy_pred_bases = greedy_model.predict(x_test)\n",
    "\n",
    "sbn.regplot(x=y_test, y=greedy_pred_bases, fit_reg=False)\n",
    "plt.plot([0, np.max(y_test)], [0, np.max(y_test)])\n",
    "plt.xlabel(\"True Bases\", fontsize=16)\n",
    "plt.ylabel(\"Predicted Bases\", fontsize=16)"
   ]
  },
  {
   "cell_type": "markdown",
   "metadata": {},
   "source": [
    "## Conclusion\n",
    "\n",
    "The analysis of the PITCHf/x data revealed much about the relationship between many of the features that describe the pitch that was thrown and the situation it was thrown in. Exploring each of the relevant features showed that the variables with the strongest correlation to bases yielded were the pitch count (balls and strikes) and the matchup between pitcher and batter handedness. Another factor, related to pitch count, that seemed to be correlated to bases yielded was how many pitches were thrown in an at-bat. These correlations point to the conclusion that the situation the pitch is thrown in has the biggest effect on the outcome of the pitch. As far as the variables that describe the actual pitch, the pitch type, zone, and release position are the three factors that seem to be the most predictive of outcome of the pitch. All of these features have proven to be strong predictors when making predictions between 0 and 1 bases yielded, but none of the models were able to predict when the batter was going to hit the ball or gain more than 1 base. Further analysis into the fielding and batting information may give more insight into when the ball will be hit."
   ]
  }
 ],
 "metadata": {
  "kernelspec": {
   "display_name": "Python 3",
   "language": "python",
   "name": "python3"
  },
  "language_info": {
   "codemirror_mode": {
    "name": "ipython",
    "version": 3
   },
   "file_extension": ".py",
   "mimetype": "text/x-python",
   "name": "python",
   "nbconvert_exporter": "python",
   "pygments_lexer": "ipython3",
   "version": "3.7.1"
  }
 },
 "nbformat": 4,
 "nbformat_minor": 2
}
